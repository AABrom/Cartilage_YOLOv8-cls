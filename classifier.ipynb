{
 "cells": [
  {
   "cell_type": "code",
   "execution_count": null,
   "metadata": {},
   "outputs": [],
   "source": [
    "! pip install ultralytics\n",
    "! pip install clearml"
   ]
  },
  {
   "cell_type": "code",
   "execution_count": 1,
   "metadata": {},
   "outputs": [],
   "source": [
    "import glob\n",
    "from ultralytics import YOLO\n",
    "import pandas as pd \n",
    "import numpy as np\n",
    "import matplotlib.pyplot as plt\n",
    "import seaborn as sns \n",
    "%matplotlib inline\n",
    "import xml.etree.ElementTree as ET\n",
    "from clearml import Task\n",
    "import shutil\n",
    "import sklearn as sk"
   ]
  },
  {
   "cell_type": "code",
   "execution_count": null,
   "metadata": {},
   "outputs": [],
   "source": [
    "%env CLEARML_WEB_HOST=https://app.clear.ml\n",
    "%env CLEARML_API_HOST=https://api.clear.ml\n",
    "%env CLEARML_FILES_HOST=https://files.clear.ml\n",
    "%env CLEARML_API_ACCESS_KEY= \"       YOUR API KEY             \"\n",
    "%env CLEARML_API_SECRET_KEY= \"        YOUR SECRET KEY         \""
   ]
  },
  {
   "cell_type": "code",
   "execution_count": null,
   "metadata": {},
   "outputs": [],
   "source": [
    "task = Task.init(project_name=\"yolov8 training\", task_name=\"yolo8\")"
   ]
  },
  {
   "cell_type": "code",
   "execution_count": 6,
   "metadata": {},
   "outputs": [],
   "source": [
    "# xml parse\n",
    "PATH_TO_DATASET = ''' YOUR PATH TO DATASET '''\n",
    "path_to_metadata = PATH_TO_DATASET + \"/*/metadata.xml\"\n",
    "\n",
    "Mean_HHGS_Score_list =[] #будем последовательно для каждой папки записывать оценку по HHGS \n",
    "Mean_OARSI_Score_list = [] #будем послеовательно для каждой папки записывать оценку по OARSI\n",
    "for file in glob.glob(path_to_metadata):\n",
    "    tree = ET.parse(file)\n",
    "    root = tree.getroot()    \n",
    "    for Mean_HHGS_Score in root.iter('Mean_HHGS_Score'):\n",
    "        attrib_dict = Mean_HHGS_Score.attrib\n",
    "        val = float(attrib_dict['value'])\n",
    "        Mean_HHGS_Score_list.append(val)\n",
    "    for Mean_OARSI_Score in root.iter('Mean_OARSI_Score'):\n",
    "        attrib_dict = Mean_OARSI_Score.attrib\n",
    "        val = float(attrib_dict['value'])\n",
    "        Mean_OARSI_Score_list.append(val)      "
   ]
  },
  {
   "cell_type": "code",
   "execution_count": 7,
   "metadata": {},
   "outputs": [
    {
     "data": {
      "text/plain": [
       "90"
      ]
     },
     "execution_count": 7,
     "metadata": {},
     "output_type": "execute_result"
    }
   ],
   "source": [
    "len(Mean_OARSI_Score_list)"
   ]
  },
  {
   "cell_type": "code",
   "execution_count": 11,
   "metadata": {},
   "outputs": [
    {
     "data": {
      "text/html": [
       "<div>\n",
       "<style scoped>\n",
       "    .dataframe tbody tr th:only-of-type {\n",
       "        vertical-align: middle;\n",
       "    }\n",
       "\n",
       "    .dataframe tbody tr th {\n",
       "        vertical-align: top;\n",
       "    }\n",
       "\n",
       "    .dataframe thead th {\n",
       "        text-align: right;\n",
       "    }\n",
       "</style>\n",
       "<table border=\"1\" class=\"dataframe\">\n",
       "  <thead>\n",
       "    <tr style=\"text-align: right;\">\n",
       "      <th></th>\n",
       "      <th>Patient_id</th>\n",
       "      <th>HHGS</th>\n",
       "      <th>OARSI</th>\n",
       "    </tr>\n",
       "  </thead>\n",
       "  <tbody>\n",
       "    <tr>\n",
       "      <th>0</th>\n",
       "      <td>P001</td>\n",
       "      <td>4.0</td>\n",
       "      <td>5.0</td>\n",
       "    </tr>\n",
       "    <tr>\n",
       "      <th>1</th>\n",
       "      <td>P002</td>\n",
       "      <td>6.0</td>\n",
       "      <td>9.0</td>\n",
       "    </tr>\n",
       "    <tr>\n",
       "      <th>2</th>\n",
       "      <td>P003</td>\n",
       "      <td>4.0</td>\n",
       "      <td>4.0</td>\n",
       "    </tr>\n",
       "    <tr>\n",
       "      <th>3</th>\n",
       "      <td>P004</td>\n",
       "      <td>5.0</td>\n",
       "      <td>3.0</td>\n",
       "    </tr>\n",
       "    <tr>\n",
       "      <th>4</th>\n",
       "      <td>P005</td>\n",
       "      <td>4.0</td>\n",
       "      <td>3.0</td>\n",
       "    </tr>\n",
       "  </tbody>\n",
       "</table>\n",
       "</div>"
      ],
      "text/plain": [
       "  Patient_id  HHGS  OARSI\n",
       "0       P001   4.0    5.0\n",
       "1       P002   6.0    9.0\n",
       "2       P003   4.0    4.0\n",
       "3       P004   5.0    3.0\n",
       "4       P005   4.0    3.0"
      ]
     },
     "execution_count": 11,
     "metadata": {},
     "output_type": "execute_result"
    }
   ],
   "source": [
    "path = PATH_TO_DATASET + \"/*\"\n",
    "folders_list = [] #создадим список с названиями папок \n",
    "\n",
    "for folder in glob.glob(path):\n",
    "    folder_link = str(folder)\n",
    "    folder_name = folder_link.lstrip(path) #уберём ссылку и оставим только название \n",
    "    folders_list.append(folder_name) \n",
    "    \n",
    "# создадим датафрейм с данными о пациенте, его оценке по HHGS и OARSI \n",
    "data = {'Patient_id': folders_list, 'HHGS': Mean_HHGS_Score_list, 'OARSI' : Mean_OARSI_Score_list}\n",
    "df = pd.DataFrame(data) \n",
    "df.Patient_id = df.Patient_id.astype(str).str[1 :]\n",
    "df.head()"
   ]
  },
  {
   "cell_type": "code",
   "execution_count": 12,
   "metadata": {},
   "outputs": [
    {
     "data": {
      "text/plain": [
       "<AxesSubplot: xlabel='HHGS', ylabel='count'>"
      ]
     },
     "execution_count": 12,
     "metadata": {},
     "output_type": "execute_result"
    },
    {
     "data": {
      "image/png": "[encoded data removed]",
      "text/plain": [
       "<Figure size 700x400 with 1 Axes>"
      ]
     },
     "metadata": {},
     "output_type": "display_data"
    }
   ],
   "source": [
    "# распределение в датасете по оценке по HHGS \n",
    "fig, ax = plt.subplots(figsize = (7, 4))\n",
    "sns.countplot(df, x= 'HHGS')"
   ]
  },
  {
   "cell_type": "code",
   "execution_count": 13,
   "metadata": {},
   "outputs": [
    {
     "data": {
      "text/plain": [
       "<AxesSubplot: xlabel='OARSI', ylabel='count'>"
      ]
     },
     "execution_count": 13,
     "metadata": {},
     "output_type": "execute_result"
    },
    {
     "data": {
      "image/png": "[encoded data removed]",
      "text/plain": [
       "<Figure size 700x400 with 1 Axes>"
      ]
     },
     "metadata": {},
     "output_type": "display_data"
    }
   ],
   "source": [
    "# распределение в датасете по оценке по OARSI\n",
    "fig, ax = plt.subplots(figsize = (7, 4))\n",
    "sns.countplot(df, x= 'OARSI')"
   ]
  },
  {
   "cell_type": "markdown",
   "metadata": {},
   "source": [
    "Данные не сбалансированы по классам. Для формирования выборок необходима стратификация."
   ]
  },
  {
   "attachments": {
    "image.png": {
     "image/png": "[encoded data removed]"
    }
   },
   "cell_type": "markdown",
   "metadata": {},
   "source": [
    "OARSI  score  range  was  extrapolated  from  HHGS  scores  assuming linear correlation: Mantripragada V. P. et al. High occurrence of osteoarthritic histopathological features unaccounted for by traditional scoring systems in lateral femoral condyles from total knee arthroplasty patients with varus alignment //Acta Orthopaedica. – 2018. – Т. 89. – №. 2. – С. 197-203.\n",
    "\n",
    "![image.png](attachment:image.png)"
   ]
  },
  {
   "cell_type": "code",
   "execution_count": 14,
   "metadata": {},
   "outputs": [],
   "source": [
    "# сформируем список пациентов в каждом классе в соответствии с оценкой по OARSI\n",
    "class_early_list= df.loc[df.OARSI < 3.4]\n",
    "class_mild_list = df.query('3.4 <= OARSI < 8.6')\n",
    "class_moderate_list =  df.query('8.6 <= OARSI < 15.4')\n",
    "class_severe_list = df.loc[df.OARSI >= 15.4 ]"
   ]
  },
  {
   "cell_type": "markdown",
   "metadata": {},
   "source": [
    "YAML формат"
   ]
  },
  {
   "cell_type": "code",
   "execution_count": null,
   "metadata": {},
   "outputs": [],
   "source": [
    "# ├── yolo_dataset\n",
    "    ## └── train\n",
    "    ####└── early_OA\n",
    "    #####└── images (folder including all early OA training images)\n",
    "    ####└── mild_OA\n",
    "    #####└── images (folder including all mild OA training images)\n",
    "    ####└── moderate_OA\n",
    "    #####└── images (folder including all moderate OA training images)\n",
    "    ####└── severe_OA\n",
    "    #####└── images (folder including all severe OA training images)\n",
    "    ## └── test\n",
    "    ####└── early_OA\n",
    "    #####└── images (folder including all early OA testing images)\n",
    "    ####└── mild_OA\n",
    "    #####└── images (folder including all mild OA testing images)\n",
    "    ####└── moderate_OA\n",
    "    #####└── images (folder including all moderate OA testing images)\n",
    "    ####└── severe_OA\n",
    "    #####└── images (folder including all severe OA testing images)\n",
    "    ## └── valid\n",
    "    ####└── early_OA\n",
    "    #####└── images (folder including all early OA validating images)    \n",
    "    ####└── mild_OA\n",
    "    #####└── images (folder including all mild OA validating images)\n",
    "    ####└── moderate_OA\n",
    "    #####└── images (folder including all moderate OA validating images)    \n",
    "    ####└── severe_OA\n",
    "    #####└── images (folder including all severe OA validating images)\n",
    "# ├── config.yaml"
   ]
  },
  {
   "cell_type": "markdown",
   "metadata": {},
   "source": [
    "HE DATASET"
   ]
  },
  {
   "cell_type": "code",
   "execution_count": 77,
   "metadata": {},
   "outputs": [],
   "source": [
    "def extract_class(path_to_stained_group, path_to_img_folder, label_name):\n",
    "    '''move images to class folder, create and return a Dataframe with columns: Image_name, label '''\n",
    "    '''переместить изображения в папку класса, создать и вывести датафрейм с колонками: название, метка класса '''\n",
    "    filenames_list = []\n",
    "    for file in glob.glob(path_to_stained_group):\n",
    "        shutil.move(file, path_to_img_folder)    \n",
    "    for file in glob.glob(path_to_img_folder + '/*'):\n",
    "        file_link = str(file)\n",
    "        file_name = file_link.lstrip(path_to_img_folder)\n",
    "        filenames_list.append(file_name)\n",
    "    labels_set = {'Image_name': filenames_list, 'label': label_name}\n",
    "    labels_set = pd.DataFrame(labels_set) \n",
    "    labels_set.Image_name = labels_set.Image_name.astype(str).str[1 :]\n",
    "    \n",
    "    return(labels_set)\n",
    "     "
   ]
  },
  {
   "cell_type": "code",
   "execution_count": null,
   "metadata": {},
   "outputs": [],
   "source": [
    "early_labels_set = extract_class(path_to_stained_group = \"C:/ide/master/datasets/cartilage_YOLO_dataset/group_early/*/*/HE/*\", path_to_img_folder = 'C:/ide/master/datasets/cartilage_YOLO_dataset/early_OA_images', label_name = \"early\")\n",
    "mild_labels_set = extract_class(path_to_stained_group = \"C:/ide/master/datasets/cartilage_YOLO_dataset/group_mild/*/*/HE/*\", path_to_img_folder = 'C:/ide/master/datasets/cartilage_YOLO_dataset/mild_OA_images', label_name = \"mild\")\n",
    "severe_labels_set = extract_class(path_to_stained_group = \"C:/ide/master/datasets/cartilage_YOLO_dataset/group_severe/*/*/HE/*\", path_to_img_folder = 'C:/ide/master/datasets/cartilage_YOLO_dataset/severe_OA_images', label_name = \"severe\")\n",
    "moderate_labels_set = extract_class(path_to_stained_group = \"C:/ide/master/datasets/cartilage_YOLO_dataset/group_moderate/*/*/HE/*\", path_to_img_folder = 'C:/ide/master/datasets/cartilage_YOLO_dataset/moderate_OA_images', label_name = \"moderate\")"
   ]
  },
  {
   "cell_type": "code",
   "execution_count": 80,
   "metadata": {},
   "outputs": [
    {
     "data": {
      "text/html": [
       "<div>\n",
       "<style scoped>\n",
       "    .dataframe tbody tr th:only-of-type {\n",
       "        vertical-align: middle;\n",
       "    }\n",
       "\n",
       "    .dataframe tbody tr th {\n",
       "        vertical-align: top;\n",
       "    }\n",
       "\n",
       "    .dataframe thead th {\n",
       "        text-align: right;\n",
       "    }\n",
       "</style>\n",
       "<table border=\"1\" class=\"dataframe\">\n",
       "  <thead>\n",
       "    <tr style=\"text-align: right;\">\n",
       "      <th></th>\n",
       "      <th>Image_name</th>\n",
       "      <th>label</th>\n",
       "    </tr>\n",
       "  </thead>\n",
       "  <tbody>\n",
       "    <tr>\n",
       "      <th>0</th>\n",
       "      <td>HE 100 section 1.tif</td>\n",
       "      <td>moderate</td>\n",
       "    </tr>\n",
       "    <tr>\n",
       "      <th>1</th>\n",
       "      <td>HE 100 section 3.tif</td>\n",
       "      <td>moderate</td>\n",
       "    </tr>\n",
       "    <tr>\n",
       "      <th>2</th>\n",
       "      <td>HE 105, section 1.tif</td>\n",
       "      <td>moderate</td>\n",
       "    </tr>\n",
       "    <tr>\n",
       "      <th>3</th>\n",
       "      <td>HE 105, section 3.tif</td>\n",
       "      <td>moderate</td>\n",
       "    </tr>\n",
       "    <tr>\n",
       "      <th>4</th>\n",
       "      <td>HE 106, section 1.tif</td>\n",
       "      <td>moderate</td>\n",
       "    </tr>\n",
       "  </tbody>\n",
       "</table>\n",
       "</div>"
      ],
      "text/plain": [
       "              Image_name     label\n",
       "0   HE 100 section 1.tif  moderate\n",
       "1   HE 100 section 3.tif  moderate\n",
       "2  HE 105, section 1.tif  moderate\n",
       "3  HE 105, section 3.tif  moderate\n",
       "4  HE 106, section 1.tif  moderate"
      ]
     },
     "execution_count": 80,
     "metadata": {},
     "output_type": "execute_result"
    }
   ],
   "source": [
    "moderate_labels_set.head()"
   ]
  },
  {
   "cell_type": "code",
   "execution_count": 81,
   "metadata": {},
   "outputs": [],
   "source": [
    "merged_set = pd.concat([early_labels_set, mild_labels_set, moderate_labels_set, severe_labels_set], ignore_index=True)"
   ]
  },
  {
   "cell_type": "code",
   "execution_count": 82,
   "metadata": {},
   "outputs": [],
   "source": [
    "merged_set.to_excel('output.xlsx')"
   ]
  },
  {
   "cell_type": "markdown",
   "metadata": {},
   "source": [
    "Стратифицированная выборка: 70-20-10"
   ]
  },
  {
   "cell_type": "code",
   "execution_count": 83,
   "metadata": {},
   "outputs": [],
   "source": [
    "X_train, X_test, y_train, y_test = sk.model_selection.train_test_split(merged_set.Image_name, merged_set.label, train_size=0.9, random_state=42, stratify = merged_set.label)"
   ]
  },
  {
   "cell_type": "code",
   "execution_count": 84,
   "metadata": {},
   "outputs": [],
   "source": [
    "X_train, X_val, y_train, y_val = sk.model_selection.train_test_split(X_train, y_train, train_size=0.78, random_state=42, stratify = y_train)"
   ]
  },
  {
   "cell_type": "code",
   "execution_count": 85,
   "metadata": {},
   "outputs": [
    {
     "data": {
      "text/html": [
       "<div>\n",
       "<style scoped>\n",
       "    .dataframe tbody tr th:only-of-type {\n",
       "        vertical-align: middle;\n",
       "    }\n",
       "\n",
       "    .dataframe tbody tr th {\n",
       "        vertical-align: top;\n",
       "    }\n",
       "\n",
       "    .dataframe thead th {\n",
       "        text-align: right;\n",
       "    }\n",
       "</style>\n",
       "<table border=\"1\" class=\"dataframe\">\n",
       "  <thead>\n",
       "    <tr style=\"text-align: right;\">\n",
       "      <th></th>\n",
       "      <th>Image_name</th>\n",
       "      <th>label</th>\n",
       "    </tr>\n",
       "  </thead>\n",
       "  <tbody>\n",
       "    <tr>\n",
       "      <th>0</th>\n",
       "      <td>HE 35, section 3.tif</td>\n",
       "      <td>moderate</td>\n",
       "    </tr>\n",
       "    <tr>\n",
       "      <th>1</th>\n",
       "      <td>HE-175, section 1.tif</td>\n",
       "      <td>mild</td>\n",
       "    </tr>\n",
       "    <tr>\n",
       "      <th>2</th>\n",
       "      <td>HE 78 section 3.tif</td>\n",
       "      <td>mild</td>\n",
       "    </tr>\n",
       "    <tr>\n",
       "      <th>3</th>\n",
       "      <td>HE 115, section 1.tif</td>\n",
       "      <td>moderate</td>\n",
       "    </tr>\n",
       "    <tr>\n",
       "      <th>4</th>\n",
       "      <td>HE 102 section 1.tif</td>\n",
       "      <td>mild</td>\n",
       "    </tr>\n",
       "    <tr>\n",
       "      <th>...</th>\n",
       "      <td>...</td>\n",
       "      <td>...</td>\n",
       "    </tr>\n",
       "    <tr>\n",
       "      <th>240</th>\n",
       "      <td>HE 44, section 3.tif</td>\n",
       "      <td>mild</td>\n",
       "    </tr>\n",
       "    <tr>\n",
       "      <th>241</th>\n",
       "      <td>HE 59 section 3.tif</td>\n",
       "      <td>moderate</td>\n",
       "    </tr>\n",
       "    <tr>\n",
       "      <th>242</th>\n",
       "      <td>HE7, section 3.tif</td>\n",
       "      <td>early</td>\n",
       "    </tr>\n",
       "    <tr>\n",
       "      <th>243</th>\n",
       "      <td>HE-167, section 1.tif</td>\n",
       "      <td>mild</td>\n",
       "    </tr>\n",
       "    <tr>\n",
       "      <th>244</th>\n",
       "      <td>HE 70, section 3.tif</td>\n",
       "      <td>moderate</td>\n",
       "    </tr>\n",
       "  </tbody>\n",
       "</table>\n",
       "<p>245 rows × 2 columns</p>\n",
       "</div>"
      ],
      "text/plain": [
       "                Image_name     label\n",
       "0     HE 35, section 3.tif  moderate\n",
       "1    HE-175, section 1.tif      mild\n",
       "2      HE 78 section 3.tif      mild\n",
       "3    HE 115, section 1.tif  moderate\n",
       "4     HE 102 section 1.tif      mild\n",
       "..                     ...       ...\n",
       "240   HE 44, section 3.tif      mild\n",
       "241    HE 59 section 3.tif  moderate\n",
       "242     HE7, section 3.tif     early\n",
       "243  HE-167, section 1.tif      mild\n",
       "244   HE 70, section 3.tif  moderate\n",
       "\n",
       "[245 rows x 2 columns]"
      ]
     },
     "execution_count": 85,
     "metadata": {},
     "output_type": "execute_result"
    }
   ],
   "source": [
    "train_set = pd.DataFrame({'Image_name': X_train, 'label': y_train})\n",
    "train_set = train_set.reset_index(drop=True)\n",
    "train_set"
   ]
  },
  {
   "cell_type": "code",
   "execution_count": 86,
   "metadata": {},
   "outputs": [
    {
     "data": {
      "text/html": [
       "<div>\n",
       "<style scoped>\n",
       "    .dataframe tbody tr th:only-of-type {\n",
       "        vertical-align: middle;\n",
       "    }\n",
       "\n",
       "    .dataframe tbody tr th {\n",
       "        vertical-align: top;\n",
       "    }\n",
       "\n",
       "    .dataframe thead th {\n",
       "        text-align: right;\n",
       "    }\n",
       "</style>\n",
       "<table border=\"1\" class=\"dataframe\">\n",
       "  <thead>\n",
       "    <tr style=\"text-align: right;\">\n",
       "      <th></th>\n",
       "      <th>Image_name</th>\n",
       "      <th>label</th>\n",
       "    </tr>\n",
       "  </thead>\n",
       "  <tbody>\n",
       "    <tr>\n",
       "      <th>0</th>\n",
       "      <td>HE 125, section 1.tif</td>\n",
       "      <td>mild</td>\n",
       "    </tr>\n",
       "    <tr>\n",
       "      <th>1</th>\n",
       "      <td>HE 129, section 3.tif</td>\n",
       "      <td>mild</td>\n",
       "    </tr>\n",
       "    <tr>\n",
       "      <th>2</th>\n",
       "      <td>HE 85, section 3.tif</td>\n",
       "      <td>mild</td>\n",
       "    </tr>\n",
       "    <tr>\n",
       "      <th>3</th>\n",
       "      <td>HE 60 section 1.tif</td>\n",
       "      <td>moderate</td>\n",
       "    </tr>\n",
       "    <tr>\n",
       "      <th>4</th>\n",
       "      <td>HE 131, section 1.tif</td>\n",
       "      <td>severe</td>\n",
       "    </tr>\n",
       "    <tr>\n",
       "      <th>5</th>\n",
       "      <td>HE 93 section 3.tif</td>\n",
       "      <td>mild</td>\n",
       "    </tr>\n",
       "    <tr>\n",
       "      <th>6</th>\n",
       "      <td>HE 69 section 1.tif</td>\n",
       "      <td>moderate</td>\n",
       "    </tr>\n",
       "    <tr>\n",
       "      <th>7</th>\n",
       "      <td>HE-173, section 1.tif</td>\n",
       "      <td>mild</td>\n",
       "    </tr>\n",
       "    <tr>\n",
       "      <th>8</th>\n",
       "      <td>HE 48 section 1.tif</td>\n",
       "      <td>mild</td>\n",
       "    </tr>\n",
       "    <tr>\n",
       "      <th>9</th>\n",
       "      <td>HE 102 section 3.tif</td>\n",
       "      <td>mild</td>\n",
       "    </tr>\n",
       "    <tr>\n",
       "      <th>10</th>\n",
       "      <td>HE-9, section 3.tif</td>\n",
       "      <td>early</td>\n",
       "    </tr>\n",
       "    <tr>\n",
       "      <th>11</th>\n",
       "      <td>HE-16, section 3.tif</td>\n",
       "      <td>early</td>\n",
       "    </tr>\n",
       "    <tr>\n",
       "      <th>12</th>\n",
       "      <td>HE 62 section 1.tif</td>\n",
       "      <td>early</td>\n",
       "    </tr>\n",
       "    <tr>\n",
       "      <th>13</th>\n",
       "      <td>HE 66 section 3.tif</td>\n",
       "      <td>mild</td>\n",
       "    </tr>\n",
       "    <tr>\n",
       "      <th>14</th>\n",
       "      <td>HE 65 section 3.tif</td>\n",
       "      <td>mild</td>\n",
       "    </tr>\n",
       "    <tr>\n",
       "      <th>15</th>\n",
       "      <td>HE 38 Section 1.tif</td>\n",
       "      <td>moderate</td>\n",
       "    </tr>\n",
       "    <tr>\n",
       "      <th>16</th>\n",
       "      <td>HE12, section 3.tif</td>\n",
       "      <td>mild</td>\n",
       "    </tr>\n",
       "    <tr>\n",
       "      <th>17</th>\n",
       "      <td>HE 46 section 3.tif</td>\n",
       "      <td>early</td>\n",
       "    </tr>\n",
       "    <tr>\n",
       "      <th>18</th>\n",
       "      <td>HE-151, section 3.tif</td>\n",
       "      <td>mild</td>\n",
       "    </tr>\n",
       "    <tr>\n",
       "      <th>19</th>\n",
       "      <td>HE 86, section 3.tif</td>\n",
       "      <td>mild</td>\n",
       "    </tr>\n",
       "    <tr>\n",
       "      <th>20</th>\n",
       "      <td>HE 104, section 3.tif</td>\n",
       "      <td>mild</td>\n",
       "    </tr>\n",
       "    <tr>\n",
       "      <th>21</th>\n",
       "      <td>HE-150, section 3.tif</td>\n",
       "      <td>mild</td>\n",
       "    </tr>\n",
       "    <tr>\n",
       "      <th>22</th>\n",
       "      <td>HE29, section 1.tif</td>\n",
       "      <td>early</td>\n",
       "    </tr>\n",
       "    <tr>\n",
       "      <th>23</th>\n",
       "      <td>HE 101 section 3.tif</td>\n",
       "      <td>mild</td>\n",
       "    </tr>\n",
       "    <tr>\n",
       "      <th>24</th>\n",
       "      <td>HE 21, section 3.tif</td>\n",
       "      <td>moderate</td>\n",
       "    </tr>\n",
       "    <tr>\n",
       "      <th>25</th>\n",
       "      <td>HE-177, section 3.tif</td>\n",
       "      <td>mild</td>\n",
       "    </tr>\n",
       "    <tr>\n",
       "      <th>26</th>\n",
       "      <td>HE-10, section 1.tif</td>\n",
       "      <td>early</td>\n",
       "    </tr>\n",
       "    <tr>\n",
       "      <th>27</th>\n",
       "      <td>HE4, section 1.tif</td>\n",
       "      <td>moderate</td>\n",
       "    </tr>\n",
       "    <tr>\n",
       "      <th>28</th>\n",
       "      <td>HE-161, section 3.tif</td>\n",
       "      <td>mild</td>\n",
       "    </tr>\n",
       "    <tr>\n",
       "      <th>29</th>\n",
       "      <td>HE-146, section 3.tif</td>\n",
       "      <td>moderate</td>\n",
       "    </tr>\n",
       "    <tr>\n",
       "      <th>30</th>\n",
       "      <td>HE 135, section 3.tif</td>\n",
       "      <td>mild</td>\n",
       "    </tr>\n",
       "    <tr>\n",
       "      <th>31</th>\n",
       "      <td>HE-159, section 1.tif</td>\n",
       "      <td>mild</td>\n",
       "    </tr>\n",
       "    <tr>\n",
       "      <th>32</th>\n",
       "      <td>HE-2, section 1.tif</td>\n",
       "      <td>mild</td>\n",
       "    </tr>\n",
       "    <tr>\n",
       "      <th>33</th>\n",
       "      <td>HE-173, section 3.tif</td>\n",
       "      <td>mild</td>\n",
       "    </tr>\n",
       "    <tr>\n",
       "      <th>34</th>\n",
       "      <td>HE-179, section 1.tif</td>\n",
       "      <td>mild</td>\n",
       "    </tr>\n",
       "    <tr>\n",
       "      <th>35</th>\n",
       "      <td>HE 138, section 3.tif</td>\n",
       "      <td>mild</td>\n",
       "    </tr>\n",
       "  </tbody>\n",
       "</table>\n",
       "</div>"
      ],
      "text/plain": [
       "               Image_name     label\n",
       "0   HE 125, section 1.tif      mild\n",
       "1   HE 129, section 3.tif      mild\n",
       "2    HE 85, section 3.tif      mild\n",
       "3     HE 60 section 1.tif  moderate\n",
       "4   HE 131, section 1.tif    severe\n",
       "5     HE 93 section 3.tif      mild\n",
       "6     HE 69 section 1.tif  moderate\n",
       "7   HE-173, section 1.tif      mild\n",
       "8     HE 48 section 1.tif      mild\n",
       "9    HE 102 section 3.tif      mild\n",
       "10    HE-9, section 3.tif     early\n",
       "11   HE-16, section 3.tif     early\n",
       "12    HE 62 section 1.tif     early\n",
       "13    HE 66 section 3.tif      mild\n",
       "14    HE 65 section 3.tif      mild\n",
       "15    HE 38 Section 1.tif  moderate\n",
       "16    HE12, section 3.tif      mild\n",
       "17    HE 46 section 3.tif     early\n",
       "18  HE-151, section 3.tif      mild\n",
       "19   HE 86, section 3.tif      mild\n",
       "20  HE 104, section 3.tif      mild\n",
       "21  HE-150, section 3.tif      mild\n",
       "22    HE29, section 1.tif     early\n",
       "23   HE 101 section 3.tif      mild\n",
       "24   HE 21, section 3.tif  moderate\n",
       "25  HE-177, section 3.tif      mild\n",
       "26   HE-10, section 1.tif     early\n",
       "27     HE4, section 1.tif  moderate\n",
       "28  HE-161, section 3.tif      mild\n",
       "29  HE-146, section 3.tif  moderate\n",
       "30  HE 135, section 3.tif      mild\n",
       "31  HE-159, section 1.tif      mild\n",
       "32    HE-2, section 1.tif      mild\n",
       "33  HE-173, section 3.tif      mild\n",
       "34  HE-179, section 1.tif      mild\n",
       "35  HE 138, section 3.tif      mild"
      ]
     },
     "execution_count": 86,
     "metadata": {},
     "output_type": "execute_result"
    }
   ],
   "source": [
    "test_set = pd.DataFrame({'Image_name': X_test, 'label': y_test}) \n",
    "test_set = test_set.reset_index(drop=True)\n",
    "test_set"
   ]
  },
  {
   "cell_type": "code",
   "execution_count": 87,
   "metadata": {},
   "outputs": [
    {
     "data": {
      "text/plain": [
       "70"
      ]
     },
     "execution_count": 87,
     "metadata": {},
     "output_type": "execute_result"
    }
   ],
   "source": [
    "val_set = pd.DataFrame({'Image_name': X_val, 'label': y_val})\n",
    "val_set = val_set.reset_index(drop = True)\n",
    "len(val_set)"
   ]
  },
  {
   "cell_type": "markdown",
   "metadata": {},
   "source": [
    "## MODEL"
   ]
  },
  {
   "cell_type": "markdown",
   "metadata": {},
   "source": [
    "## Classification"
   ]
  },
  {
   "cell_type": "code",
   "execution_count": 98,
   "metadata": {},
   "outputs": [],
   "source": [
    "HE_m_model = YOLO('yolov8m-cls.pt')"
   ]
  },
  {
   "cell_type": "code",
   "execution_count": 99,
   "metadata": {},
   "outputs": [
    {
     "name": "stdout",
     "output_type": "stream",
     "text": [
      "New https://pypi.org/project/ultralytics/8.2.2 available 😃 Update with 'pip install -U ultralytics'\n",
      "Ultralytics YOLOv8.1.15 🚀 Python-3.9.10 torch-2.1.1+cpu CPU (Intel Core(TM) i3-10110U 2.10GHz)\n",
      "\u001b[34m\u001b[1mengine\\trainer: \u001b[0mtask=classify, mode=train, model=yolov8m-cls.pt, data=C:/ide/master/datasets/cartilage_YOLO_dataset/HE_dataset/, epochs=50, time=None, patience=50, batch=16, imgsz=640, save=True, save_period=-1, cache=False, device=None, workers=8, project=None, name=train4, exist_ok=False, pretrained=True, optimizer=auto, verbose=True, seed=0, deterministic=True, single_cls=False, rect=False, cos_lr=False, close_mosaic=10, resume=False, amp=True, fraction=1.0, profile=False, freeze=None, multi_scale=False, overlap_mask=True, mask_ratio=4, dropout=0.0, val=True, split=val, save_json=False, save_hybrid=False, conf=None, iou=0.7, max_det=300, half=False, dnn=False, plots=True, source=None, vid_stride=1, stream_buffer=False, visualize=False, augment=False, agnostic_nms=False, classes=None, retina_masks=False, embed=None, show=False, save_frames=False, save_txt=False, save_conf=False, save_crop=False, show_labels=True, show_conf=True, show_boxes=True, line_width=None, format=torchscript, keras=False, optimize=False, int8=False, dynamic=False, simplify=False, opset=None, workspace=4, nms=False, lr0=0.01, lrf=0.01, momentum=0.937, weight_decay=0.0005, warmup_epochs=3.0, warmup_momentum=0.8, warmup_bias_lr=0.1, box=7.5, cls=0.5, dfl=1.5, pose=12.0, kobj=1.0, label_smoothing=0.0, nbs=64, hsv_h=0.015, hsv_s=0.1, hsv_v=0.1, degrees=180, translate=0.1, scale=0.1, shear=0.0, perspective=0.0001, flipud=0.2, fliplr=0.2, mosaic=1.0, mixup=0.05, copy_paste=0.05, auto_augment=randaugment, erasing=0.1, crop_fraction=1.0, cfg=None, tracker=botsort.yaml, save_dir=runs\\classify\\train4\n",
      "\u001b[34m\u001b[1mtrain:\u001b[0m C:\\ide\\master\\datasets\\cartilage_YOLO_dataset\\HE_dataset\\train... found 245 images in 4 classes ✅ \n",
      "\u001b[34m\u001b[1mval:\u001b[0m C:\\ide\\master\\datasets\\cartilage_YOLO_dataset\\HE_dataset\\val... found 70 images in 4 classes ✅ \n",
      "\u001b[34m\u001b[1mtest:\u001b[0m C:\\ide\\master\\datasets\\cartilage_YOLO_dataset\\HE_dataset\\test... found 36 images in 4 classes ✅ \n",
      "Overriding model.yaml nc=1000 with nc=4\n",
      "\n",
      "                   from  n    params  module                                       arguments                     \n",
      "  0                  -1  1      1392  ultralytics.nn.modules.conv.Conv             [3, 48, 3, 2]                 \n",
      "  1                  -1  1     41664  ultralytics.nn.modules.conv.Conv             [48, 96, 3, 2]                \n",
      "  2                  -1  2    111360  ultralytics.nn.modules.block.C2f             [96, 96, 2, True]             \n",
      "  3                  -1  1    166272  ultralytics.nn.modules.conv.Conv             [96, 192, 3, 2]               \n",
      "  4                  -1  4    813312  ultralytics.nn.modules.block.C2f             [192, 192, 4, True]           \n",
      "  5                  -1  1    664320  ultralytics.nn.modules.conv.Conv             [192, 384, 3, 2]              \n",
      "  6                  -1  4   3248640  ultralytics.nn.modules.block.C2f             [384, 384, 4, True]           \n",
      "  7                  -1  1   2655744  ultralytics.nn.modules.conv.Conv             [384, 768, 3, 2]              \n",
      "  8                  -1  2   7084032  ultralytics.nn.modules.block.C2f             [768, 768, 2, True]           \n",
      "  9                  -1  1    990724  ultralytics.nn.modules.head.Classify         [768, 4]                      \n",
      "YOLOv8m-cls summary: 141 layers, 15777460 parameters, 15777460 gradients, 41.9 GFLOPs\n",
      "Transferred 228/230 items from pretrained weights\n",
      "2024-04-20 01:26:39,725 - clearml.Task - INFO - Completed model upload to https://files.clear.ml/cart_classification/yolo8s-cls.fabca85a3daa4d14b29d097021a3fea5/models/best.pt\n"
     ]
    },
    {
     "name": "stderr",
     "output_type": "stream",
     "text": [
      "\u001b[34m\u001b[1mtrain: \u001b[0mScanning C:\\ide\\master\\datasets\\cartilage_YOLO_dataset\\HE_dataset\\train... 245 images, 0 corrupt: 100%|██████████| 245/245 [00:00<?, ?it/s]\n",
      "\u001b[34m\u001b[1mval: \u001b[0mScanning C:\\ide\\master\\datasets\\cartilage_YOLO_dataset\\HE_dataset\\val... 70 images, 0 corrupt: 100%|██████████| 70/70 [00:00<?, ?it/s]"
     ]
    },
    {
     "name": "stdout",
     "output_type": "stream",
     "text": [
      "\u001b[34m\u001b[1moptimizer:\u001b[0m 'optimizer=auto' found, ignoring 'lr0=0.01' and 'momentum=0.937' and determining best 'optimizer', 'lr0' and 'momentum' automatically... \n",
      "\u001b[34m\u001b[1moptimizer:\u001b[0m AdamW(lr=0.000714, momentum=0.9) with parameter groups 38 weight(decay=0.0), 39 weight(decay=0.0005), 39 bias(decay=0.0)\n"
     ]
    },
    {
     "name": "stderr",
     "output_type": "stream",
     "text": [
      "\n"
     ]
    },
    {
     "name": "stdout",
     "output_type": "stream",
     "text": [
      "Image sizes 640 train, 640 val\n",
      "Using 0 dataloader workers\n",
      "Logging results to \u001b[1mruns\\classify\\train4\u001b[0m\n",
      "Starting training for 50 epochs...\n",
      "\n",
      "      Epoch    GPU_mem       loss  Instances       Size\n"
     ]
    },
    {
     "name": "stderr",
     "output_type": "stream",
     "text": [
      "       1/50         0G      1.376          5        640: 100%|██████████| 16/16 [16:52<00:00, 63.28s/it]\n",
      "               classes   top1_acc   top5_acc: 100%|██████████| 3/3 [01:45<00:00, 35.21s/it]"
     ]
    },
    {
     "name": "stdout",
     "output_type": "stream",
     "text": [
      "                   all      0.629          1\n"
     ]
    },
    {
     "name": "stderr",
     "output_type": "stream",
     "text": [
      "\n"
     ]
    },
    {
     "name": "stdout",
     "output_type": "stream",
     "text": [
      "\n",
      "      Epoch    GPU_mem       loss  Instances       Size\n"
     ]
    },
    {
     "name": "stderr",
     "output_type": "stream",
     "text": [
      "       2/50         0G      1.024          5        640: 100%|██████████| 16/16 [16:15<00:00, 60.98s/it]\n",
      "               classes   top1_acc   top5_acc: 100%|██████████| 3/3 [01:46<00:00, 35.59s/it]"
     ]
    },
    {
     "name": "stdout",
     "output_type": "stream",
     "text": [
      "                   all      0.643          1\n"
     ]
    },
    {
     "name": "stderr",
     "output_type": "stream",
     "text": [
      "\n"
     ]
    },
    {
     "name": "stdout",
     "output_type": "stream",
     "text": [
      "\n",
      "      Epoch    GPU_mem       loss  Instances       Size\n"
     ]
    },
    {
     "name": "stderr",
     "output_type": "stream",
     "text": [
      "       3/50         0G     0.8847          5        640: 100%|██████████| 16/16 [16:35<00:00, 62.21s/it]\n",
      "               classes   top1_acc   top5_acc: 100%|██████████| 3/3 [01:45<00:00, 35.13s/it]"
     ]
    },
    {
     "name": "stdout",
     "output_type": "stream",
     "text": [
      "                   all      0.629          1\n"
     ]
    },
    {
     "name": "stderr",
     "output_type": "stream",
     "text": [
      "\n"
     ]
    },
    {
     "name": "stdout",
     "output_type": "stream",
     "text": [
      "\n",
      "      Epoch    GPU_mem       loss  Instances       Size\n"
     ]
    },
    {
     "name": "stderr",
     "output_type": "stream",
     "text": [
      "       4/50         0G     0.7788          5        640: 100%|██████████| 16/16 [16:30<00:00, 61.89s/it]\n",
      "               classes   top1_acc   top5_acc: 100%|██████████| 3/3 [01:45<00:00, 35.25s/it]"
     ]
    },
    {
     "name": "stdout",
     "output_type": "stream",
     "text": [
      "                   all      0.729          1\n"
     ]
    },
    {
     "name": "stderr",
     "output_type": "stream",
     "text": [
      "\n"
     ]
    },
    {
     "name": "stdout",
     "output_type": "stream",
     "text": [
      "\n",
      "      Epoch    GPU_mem       loss  Instances       Size\n"
     ]
    },
    {
     "name": "stderr",
     "output_type": "stream",
     "text": [
      "       5/50         0G       0.72          5        640: 100%|██████████| 16/16 [16:06<00:00, 60.41s/it]\n",
      "               classes   top1_acc   top5_acc: 100%|██████████| 3/3 [01:46<00:00, 35.42s/it]"
     ]
    },
    {
     "name": "stdout",
     "output_type": "stream",
     "text": [
      "                   all      0.657          1\n"
     ]
    },
    {
     "name": "stderr",
     "output_type": "stream",
     "text": [
      "\n"
     ]
    },
    {
     "name": "stdout",
     "output_type": "stream",
     "text": [
      "\n",
      "      Epoch    GPU_mem       loss  Instances       Size\n"
     ]
    },
    {
     "name": "stderr",
     "output_type": "stream",
     "text": [
      "       6/50         0G     0.5902          5        640: 100%|██████████| 16/16 [16:21<00:00, 61.31s/it]\n",
      "               classes   top1_acc   top5_acc: 100%|██████████| 3/3 [01:44<00:00, 34.86s/it]"
     ]
    },
    {
     "name": "stdout",
     "output_type": "stream",
     "text": [
      "                   all      0.771          1\n"
     ]
    },
    {
     "name": "stderr",
     "output_type": "stream",
     "text": [
      "\n"
     ]
    },
    {
     "name": "stdout",
     "output_type": "stream",
     "text": [
      "\n",
      "      Epoch    GPU_mem       loss  Instances       Size\n"
     ]
    },
    {
     "name": "stderr",
     "output_type": "stream",
     "text": [
      "       7/50         0G     0.4596          5        640: 100%|██████████| 16/16 [16:13<00:00, 60.81s/it]\n",
      "               classes   top1_acc   top5_acc: 100%|██████████| 3/3 [01:44<00:00, 34.83s/it]"
     ]
    },
    {
     "name": "stdout",
     "output_type": "stream",
     "text": [
      "                   all      0.871          1\n"
     ]
    },
    {
     "name": "stderr",
     "output_type": "stream",
     "text": [
      "\n"
     ]
    },
    {
     "name": "stdout",
     "output_type": "stream",
     "text": [
      "\n",
      "      Epoch    GPU_mem       loss  Instances       Size\n"
     ]
    },
    {
     "name": "stderr",
     "output_type": "stream",
     "text": [
      "       8/50         0G     0.3769          5        640: 100%|██████████| 16/16 [16:20<00:00, 61.28s/it]\n",
      "               classes   top1_acc   top5_acc: 100%|██████████| 3/3 [01:50<00:00, 36.85s/it]\n"
     ]
    },
    {
     "name": "stdout",
     "output_type": "stream",
     "text": [
      "                   all      0.771          1\n",
      "\n",
      "      Epoch    GPU_mem       loss  Instances       Size\n"
     ]
    },
    {
     "name": "stderr",
     "output_type": "stream",
     "text": [
      "       9/50         0G     0.3425          5        640: 100%|██████████| 16/16 [16:16<00:00, 61.06s/it]\n",
      "               classes   top1_acc   top5_acc: 100%|██████████| 3/3 [01:49<00:00, 36.40s/it]"
     ]
    },
    {
     "name": "stdout",
     "output_type": "stream",
     "text": [
      "                   all      0.814          1\n"
     ]
    },
    {
     "name": "stderr",
     "output_type": "stream",
     "text": [
      "\n"
     ]
    },
    {
     "name": "stdout",
     "output_type": "stream",
     "text": [
      "\n",
      "      Epoch    GPU_mem       loss  Instances       Size\n"
     ]
    },
    {
     "name": "stderr",
     "output_type": "stream",
     "text": [
      "      10/50         0G     0.3458          5        640: 100%|██████████| 16/16 [16:22<00:00, 61.43s/it]\n",
      "               classes   top1_acc   top5_acc: 100%|██████████| 3/3 [01:49<00:00, 36.41s/it]"
     ]
    },
    {
     "name": "stdout",
     "output_type": "stream",
     "text": [
      "                   all      0.843          1\n"
     ]
    },
    {
     "name": "stderr",
     "output_type": "stream",
     "text": [
      "\n"
     ]
    },
    {
     "name": "stdout",
     "output_type": "stream",
     "text": [
      "\n",
      "      Epoch    GPU_mem       loss  Instances       Size\n"
     ]
    },
    {
     "name": "stderr",
     "output_type": "stream",
     "text": [
      "      11/50         0G     0.2862          5        640: 100%|██████████| 16/16 [16:50<00:00, 63.15s/it]\n",
      "               classes   top1_acc   top5_acc: 100%|██████████| 3/3 [01:48<00:00, 36.33s/it]"
     ]
    },
    {
     "name": "stdout",
     "output_type": "stream",
     "text": [
      "                   all      0.757          1\n"
     ]
    },
    {
     "name": "stderr",
     "output_type": "stream",
     "text": [
      "\n"
     ]
    },
    {
     "name": "stdout",
     "output_type": "stream",
     "text": [
      "\n",
      "      Epoch    GPU_mem       loss  Instances       Size\n"
     ]
    },
    {
     "name": "stderr",
     "output_type": "stream",
     "text": [
      "      12/50         0G     0.2555          5        640: 100%|██████████| 16/16 [16:19<00:00, 61.22s/it]\n",
      "               classes   top1_acc   top5_acc: 100%|██████████| 3/3 [01:50<00:00, 36.72s/it]"
     ]
    },
    {
     "name": "stdout",
     "output_type": "stream",
     "text": [
      "                   all        0.9          1\n"
     ]
    },
    {
     "name": "stderr",
     "output_type": "stream",
     "text": [
      "\n"
     ]
    },
    {
     "name": "stdout",
     "output_type": "stream",
     "text": [
      "\n",
      "      Epoch    GPU_mem       loss  Instances       Size\n"
     ]
    },
    {
     "name": "stderr",
     "output_type": "stream",
     "text": [
      "      13/50         0G     0.2738          5        640: 100%|██████████| 16/16 [16:25<00:00, 61.58s/it]\n",
      "               classes   top1_acc   top5_acc: 100%|██████████| 3/3 [01:49<00:00, 36.45s/it]"
     ]
    },
    {
     "name": "stdout",
     "output_type": "stream",
     "text": [
      "                   all      0.857          1\n"
     ]
    },
    {
     "name": "stderr",
     "output_type": "stream",
     "text": [
      "\n"
     ]
    },
    {
     "name": "stdout",
     "output_type": "stream",
     "text": [
      "\n",
      "      Epoch    GPU_mem       loss  Instances       Size\n"
     ]
    },
    {
     "name": "stderr",
     "output_type": "stream",
     "text": [
      "      14/50         0G     0.2313          5        640: 100%|██████████| 16/16 [16:28<00:00, 61.81s/it]\n",
      "               classes   top1_acc   top5_acc: 100%|██████████| 3/3 [01:48<00:00, 36.26s/it]"
     ]
    },
    {
     "name": "stdout",
     "output_type": "stream",
     "text": [
      "                   all      0.871          1\n"
     ]
    },
    {
     "name": "stderr",
     "output_type": "stream",
     "text": [
      "\n"
     ]
    },
    {
     "name": "stdout",
     "output_type": "stream",
     "text": [
      "\n",
      "      Epoch    GPU_mem       loss  Instances       Size\n"
     ]
    },
    {
     "name": "stderr",
     "output_type": "stream",
     "text": [
      "      15/50         0G     0.1529          5        640: 100%|██████████| 16/16 [16:12<00:00, 60.81s/it]\n",
      "               classes   top1_acc   top5_acc: 100%|██████████| 3/3 [01:49<00:00, 36.41s/it]"
     ]
    },
    {
     "name": "stdout",
     "output_type": "stream",
     "text": [
      "                   all      0.914          1\n"
     ]
    },
    {
     "name": "stderr",
     "output_type": "stream",
     "text": [
      "\n"
     ]
    },
    {
     "name": "stdout",
     "output_type": "stream",
     "text": [
      "\n",
      "      Epoch    GPU_mem       loss  Instances       Size\n"
     ]
    },
    {
     "name": "stderr",
     "output_type": "stream",
     "text": [
      "      16/50         0G     0.1602          5        640: 100%|██████████| 16/16 [16:28<00:00, 61.76s/it]\n",
      "               classes   top1_acc   top5_acc: 100%|██████████| 3/3 [01:49<00:00, 36.39s/it]"
     ]
    },
    {
     "name": "stdout",
     "output_type": "stream",
     "text": [
      "                   all      0.929          1\n"
     ]
    },
    {
     "name": "stderr",
     "output_type": "stream",
     "text": [
      "\n"
     ]
    },
    {
     "name": "stdout",
     "output_type": "stream",
     "text": [
      "\n",
      "      Epoch    GPU_mem       loss  Instances       Size\n"
     ]
    },
    {
     "name": "stderr",
     "output_type": "stream",
     "text": [
      "      17/50         0G     0.1518          5        640: 100%|██████████| 16/16 [16:20<00:00, 61.31s/it]\n",
      "               classes   top1_acc   top5_acc: 100%|██████████| 3/3 [01:49<00:00, 36.64s/it]"
     ]
    },
    {
     "name": "stdout",
     "output_type": "stream",
     "text": [
      "                   all      0.957          1\n"
     ]
    },
    {
     "name": "stderr",
     "output_type": "stream",
     "text": [
      "\n"
     ]
    },
    {
     "name": "stdout",
     "output_type": "stream",
     "text": [
      "\n",
      "      Epoch    GPU_mem       loss  Instances       Size\n"
     ]
    },
    {
     "name": "stderr",
     "output_type": "stream",
     "text": [
      "      18/50         0G     0.1403          5        640: 100%|██████████| 16/16 [16:27<00:00, 61.71s/it]\n",
      "               classes   top1_acc   top5_acc: 100%|██████████| 3/3 [01:49<00:00, 36.60s/it]"
     ]
    },
    {
     "name": "stdout",
     "output_type": "stream",
     "text": [
      "                   all      0.914          1\n"
     ]
    },
    {
     "name": "stderr",
     "output_type": "stream",
     "text": [
      "\n"
     ]
    },
    {
     "name": "stdout",
     "output_type": "stream",
     "text": [
      "\n",
      "      Epoch    GPU_mem       loss  Instances       Size\n"
     ]
    },
    {
     "name": "stderr",
     "output_type": "stream",
     "text": [
      "      19/50         0G     0.1141          5        640: 100%|██████████| 16/16 [16:10<00:00, 60.68s/it]\n",
      "               classes   top1_acc   top5_acc: 100%|██████████| 3/3 [01:49<00:00, 36.57s/it]"
     ]
    },
    {
     "name": "stdout",
     "output_type": "stream",
     "text": [
      "                   all      0.914          1\n"
     ]
    },
    {
     "name": "stderr",
     "output_type": "stream",
     "text": [
      "\n"
     ]
    },
    {
     "name": "stdout",
     "output_type": "stream",
     "text": [
      "\n",
      "      Epoch    GPU_mem       loss  Instances       Size\n"
     ]
    },
    {
     "name": "stderr",
     "output_type": "stream",
     "text": [
      "      20/50         0G      0.102          5        640: 100%|██████████| 16/16 [16:18<00:00, 61.14s/it]\n",
      "               classes   top1_acc   top5_acc: 100%|██████████| 3/3 [01:49<00:00, 36.35s/it]"
     ]
    },
    {
     "name": "stdout",
     "output_type": "stream",
     "text": [
      "                   all      0.914          1\n"
     ]
    },
    {
     "name": "stderr",
     "output_type": "stream",
     "text": [
      "\n"
     ]
    },
    {
     "name": "stdout",
     "output_type": "stream",
     "text": [
      "\n",
      "      Epoch    GPU_mem       loss  Instances       Size\n"
     ]
    },
    {
     "name": "stderr",
     "output_type": "stream",
     "text": [
      "      21/50         0G     0.1433          5        640: 100%|██████████| 16/16 [16:35<00:00, 62.19s/it]\n",
      "               classes   top1_acc   top5_acc: 100%|██████████| 3/3 [01:48<00:00, 36.28s/it]"
     ]
    },
    {
     "name": "stdout",
     "output_type": "stream",
     "text": [
      "                   all      0.929          1\n"
     ]
    },
    {
     "name": "stderr",
     "output_type": "stream",
     "text": [
      "\n"
     ]
    },
    {
     "name": "stdout",
     "output_type": "stream",
     "text": [
      "\n",
      "      Epoch    GPU_mem       loss  Instances       Size\n"
     ]
    },
    {
     "name": "stderr",
     "output_type": "stream",
     "text": [
      "      22/50         0G     0.1214          5        640: 100%|██████████| 16/16 [16:26<00:00, 61.64s/it]\n",
      "               classes   top1_acc   top5_acc: 100%|██████████| 3/3 [01:50<00:00, 36.71s/it]"
     ]
    },
    {
     "name": "stdout",
     "output_type": "stream",
     "text": [
      "                   all      0.943          1\n"
     ]
    },
    {
     "name": "stderr",
     "output_type": "stream",
     "text": [
      "\n"
     ]
    },
    {
     "name": "stdout",
     "output_type": "stream",
     "text": [
      "\n",
      "      Epoch    GPU_mem       loss  Instances       Size\n"
     ]
    },
    {
     "name": "stderr",
     "output_type": "stream",
     "text": [
      "      23/50         0G    0.07254          5        640: 100%|██████████| 16/16 [16:32<00:00, 62.04s/it]\n",
      "               classes   top1_acc   top5_acc: 100%|██████████| 3/3 [01:49<00:00, 36.34s/it]"
     ]
    },
    {
     "name": "stdout",
     "output_type": "stream",
     "text": [
      "                   all      0.914          1\n"
     ]
    },
    {
     "name": "stderr",
     "output_type": "stream",
     "text": [
      "\n"
     ]
    },
    {
     "name": "stdout",
     "output_type": "stream",
     "text": [
      "\n",
      "      Epoch    GPU_mem       loss  Instances       Size\n"
     ]
    },
    {
     "name": "stderr",
     "output_type": "stream",
     "text": [
      "      24/50         0G    0.08377          5        640: 100%|██████████| 16/16 [16:57<00:00, 63.58s/it]\n",
      "               classes   top1_acc   top5_acc: 100%|██████████| 3/3 [01:49<00:00, 36.47s/it]"
     ]
    },
    {
     "name": "stdout",
     "output_type": "stream",
     "text": [
      "                   all      0.929          1\n"
     ]
    },
    {
     "name": "stderr",
     "output_type": "stream",
     "text": [
      "\n"
     ]
    },
    {
     "name": "stdout",
     "output_type": "stream",
     "text": [
      "\n",
      "      Epoch    GPU_mem       loss  Instances       Size\n"
     ]
    },
    {
     "name": "stderr",
     "output_type": "stream",
     "text": [
      "      25/50         0G     0.1066          5        640: 100%|██████████| 16/16 [16:22<00:00, 61.38s/it]\n",
      "               classes   top1_acc   top5_acc: 100%|██████████| 3/3 [01:49<00:00, 36.44s/it]"
     ]
    },
    {
     "name": "stdout",
     "output_type": "stream",
     "text": [
      "                   all        0.9          1\n"
     ]
    },
    {
     "name": "stderr",
     "output_type": "stream",
     "text": [
      "\n"
     ]
    },
    {
     "name": "stdout",
     "output_type": "stream",
     "text": [
      "\n",
      "      Epoch    GPU_mem       loss  Instances       Size\n"
     ]
    },
    {
     "name": "stderr",
     "output_type": "stream",
     "text": [
      "      26/50         0G     0.1393          5        640: 100%|██████████| 16/16 [16:25<00:00, 61.58s/it]\n",
      "               classes   top1_acc   top5_acc: 100%|██████████| 3/3 [01:49<00:00, 36.48s/it]"
     ]
    },
    {
     "name": "stdout",
     "output_type": "stream",
     "text": [
      "                   all        0.9          1\n"
     ]
    },
    {
     "name": "stderr",
     "output_type": "stream",
     "text": [
      "\n"
     ]
    },
    {
     "name": "stdout",
     "output_type": "stream",
     "text": [
      "\n",
      "      Epoch    GPU_mem       loss  Instances       Size\n"
     ]
    },
    {
     "name": "stderr",
     "output_type": "stream",
     "text": [
      "      27/50         0G    0.09628          5        640: 100%|██████████| 16/16 [16:20<00:00, 61.30s/it]\n",
      "               classes   top1_acc   top5_acc: 100%|██████████| 3/3 [01:54<00:00, 38.17s/it]"
     ]
    },
    {
     "name": "stdout",
     "output_type": "stream",
     "text": [
      "                   all      0.857          1\n"
     ]
    },
    {
     "name": "stderr",
     "output_type": "stream",
     "text": [
      "\n"
     ]
    },
    {
     "name": "stdout",
     "output_type": "stream",
     "text": [
      "\n",
      "      Epoch    GPU_mem       loss  Instances       Size\n"
     ]
    },
    {
     "name": "stderr",
     "output_type": "stream",
     "text": [
      "      28/50         0G     0.1067          5        640: 100%|██████████| 16/16 [16:31<00:00, 61.95s/it]\n",
      "               classes   top1_acc   top5_acc: 100%|██████████| 3/3 [01:49<00:00, 36.39s/it]"
     ]
    },
    {
     "name": "stdout",
     "output_type": "stream",
     "text": [
      "                   all      0.886          1\n"
     ]
    },
    {
     "name": "stderr",
     "output_type": "stream",
     "text": [
      "\n"
     ]
    },
    {
     "name": "stdout",
     "output_type": "stream",
     "text": [
      "\n",
      "      Epoch    GPU_mem       loss  Instances       Size\n"
     ]
    },
    {
     "name": "stderr",
     "output_type": "stream",
     "text": [
      "      29/50         0G    0.06425          5        640: 100%|██████████| 16/16 [16:26<00:00, 61.63s/it]\n",
      "               classes   top1_acc   top5_acc: 100%|██████████| 3/3 [01:49<00:00, 36.61s/it]"
     ]
    },
    {
     "name": "stdout",
     "output_type": "stream",
     "text": [
      "                   all      0.886          1\n"
     ]
    },
    {
     "name": "stderr",
     "output_type": "stream",
     "text": [
      "\n"
     ]
    },
    {
     "name": "stdout",
     "output_type": "stream",
     "text": [
      "\n",
      "      Epoch    GPU_mem       loss  Instances       Size\n"
     ]
    },
    {
     "name": "stderr",
     "output_type": "stream",
     "text": [
      "      30/50         0G    0.06004          5        640: 100%|██████████| 16/16 [16:28<00:00, 61.80s/it]\n",
      "               classes   top1_acc   top5_acc: 100%|██████████| 3/3 [01:49<00:00, 36.67s/it]"
     ]
    },
    {
     "name": "stdout",
     "output_type": "stream",
     "text": [
      "                   all        0.9          1\n"
     ]
    },
    {
     "name": "stderr",
     "output_type": "stream",
     "text": [
      "\n"
     ]
    },
    {
     "name": "stdout",
     "output_type": "stream",
     "text": [
      "\n",
      "      Epoch    GPU_mem       loss  Instances       Size\n"
     ]
    },
    {
     "name": "stderr",
     "output_type": "stream",
     "text": [
      "      31/50         0G    0.05191          5        640: 100%|██████████| 16/16 [16:37<00:00, 62.37s/it]\n",
      "               classes   top1_acc   top5_acc: 100%|██████████| 3/3 [01:49<00:00, 36.52s/it]"
     ]
    },
    {
     "name": "stdout",
     "output_type": "stream",
     "text": [
      "                   all      0.886          1\n"
     ]
    },
    {
     "name": "stderr",
     "output_type": "stream",
     "text": [
      "\n"
     ]
    },
    {
     "name": "stdout",
     "output_type": "stream",
     "text": [
      "\n",
      "      Epoch    GPU_mem       loss  Instances       Size\n"
     ]
    },
    {
     "name": "stderr",
     "output_type": "stream",
     "text": [
      "      32/50         0G    0.07077          5        640: 100%|██████████| 16/16 [16:38<00:00, 62.42s/it]\n",
      "               classes   top1_acc   top5_acc: 100%|██████████| 3/3 [01:48<00:00, 36.30s/it]"
     ]
    },
    {
     "name": "stdout",
     "output_type": "stream",
     "text": [
      "                   all      0.886          1\n"
     ]
    },
    {
     "name": "stderr",
     "output_type": "stream",
     "text": [
      "\n"
     ]
    },
    {
     "name": "stdout",
     "output_type": "stream",
     "text": [
      "\n",
      "      Epoch    GPU_mem       loss  Instances       Size\n"
     ]
    },
    {
     "name": "stderr",
     "output_type": "stream",
     "text": [
      "      33/50         0G    0.06296          5        640: 100%|██████████| 16/16 [16:34<00:00, 62.18s/it]\n",
      "               classes   top1_acc   top5_acc: 100%|██████████| 3/3 [01:49<00:00, 36.50s/it]"
     ]
    },
    {
     "name": "stdout",
     "output_type": "stream",
     "text": [
      "                   all        0.9          1\n"
     ]
    },
    {
     "name": "stderr",
     "output_type": "stream",
     "text": [
      "\n"
     ]
    },
    {
     "name": "stdout",
     "output_type": "stream",
     "text": [
      "\n",
      "      Epoch    GPU_mem       loss  Instances       Size\n"
     ]
    },
    {
     "name": "stderr",
     "output_type": "stream",
     "text": [
      "      34/50         0G     0.1309          5        640: 100%|██████████| 16/16 [16:32<00:00, 62.05s/it]\n",
      "               classes   top1_acc   top5_acc: 100%|██████████| 3/3 [01:49<00:00, 36.54s/it]"
     ]
    },
    {
     "name": "stdout",
     "output_type": "stream",
     "text": [
      "                   all        0.9          1\n"
     ]
    },
    {
     "name": "stderr",
     "output_type": "stream",
     "text": [
      "\n"
     ]
    },
    {
     "name": "stdout",
     "output_type": "stream",
     "text": [
      "\n",
      "      Epoch    GPU_mem       loss  Instances       Size\n"
     ]
    },
    {
     "name": "stderr",
     "output_type": "stream",
     "text": [
      "      35/50         0G    0.06172          5        640: 100%|██████████| 16/16 [16:42<00:00, 62.65s/it]\n",
      "               classes   top1_acc   top5_acc: 100%|██████████| 3/3 [01:49<00:00, 36.57s/it]"
     ]
    },
    {
     "name": "stdout",
     "output_type": "stream",
     "text": [
      "                   all      0.929          1\n"
     ]
    },
    {
     "name": "stderr",
     "output_type": "stream",
     "text": [
      "\n"
     ]
    },
    {
     "name": "stdout",
     "output_type": "stream",
     "text": [
      "\n",
      "      Epoch    GPU_mem       loss  Instances       Size\n"
     ]
    },
    {
     "name": "stderr",
     "output_type": "stream",
     "text": [
      "      36/50         0G    0.07108          5        640: 100%|██████████| 16/16 [16:44<00:00, 62.81s/it]\n",
      "               classes   top1_acc   top5_acc: 100%|██████████| 3/3 [01:49<00:00, 36.61s/it]"
     ]
    },
    {
     "name": "stdout",
     "output_type": "stream",
     "text": [
      "                   all      0.929          1\n"
     ]
    },
    {
     "name": "stderr",
     "output_type": "stream",
     "text": [
      "\n"
     ]
    },
    {
     "name": "stdout",
     "output_type": "stream",
     "text": [
      "\n",
      "      Epoch    GPU_mem       loss  Instances       Size\n"
     ]
    },
    {
     "name": "stderr",
     "output_type": "stream",
     "text": [
      "      37/50         0G    0.03148          5        640: 100%|██████████| 16/16 [16:52<00:00, 63.28s/it]\n",
      "               classes   top1_acc   top5_acc: 100%|██████████| 3/3 [01:49<00:00, 36.44s/it]"
     ]
    },
    {
     "name": "stdout",
     "output_type": "stream",
     "text": [
      "                   all      0.929          1\n"
     ]
    },
    {
     "name": "stderr",
     "output_type": "stream",
     "text": [
      "\n"
     ]
    },
    {
     "name": "stdout",
     "output_type": "stream",
     "text": [
      "\n",
      "      Epoch    GPU_mem       loss  Instances       Size\n"
     ]
    },
    {
     "name": "stderr",
     "output_type": "stream",
     "text": [
      "      38/50         0G    0.03209          5        640: 100%|██████████| 16/16 [16:33<00:00, 62.10s/it]\n",
      "               classes   top1_acc   top5_acc: 100%|██████████| 3/3 [01:50<00:00, 36.72s/it]"
     ]
    },
    {
     "name": "stdout",
     "output_type": "stream",
     "text": [
      "                   all      0.929          1\n"
     ]
    },
    {
     "name": "stderr",
     "output_type": "stream",
     "text": [
      "\n"
     ]
    },
    {
     "name": "stdout",
     "output_type": "stream",
     "text": [
      "\n",
      "      Epoch    GPU_mem       loss  Instances       Size\n"
     ]
    },
    {
     "name": "stderr",
     "output_type": "stream",
     "text": [
      "      39/50         0G    0.02344          5        640: 100%|██████████| 16/16 [16:31<00:00, 61.98s/it]\n",
      "               classes   top1_acc   top5_acc: 100%|██████████| 3/3 [01:49<00:00, 36.58s/it]"
     ]
    },
    {
     "name": "stdout",
     "output_type": "stream",
     "text": [
      "                   all      0.929          1\n"
     ]
    },
    {
     "name": "stderr",
     "output_type": "stream",
     "text": [
      "\n"
     ]
    },
    {
     "name": "stdout",
     "output_type": "stream",
     "text": [
      "\n",
      "      Epoch    GPU_mem       loss  Instances       Size\n"
     ]
    },
    {
     "name": "stderr",
     "output_type": "stream",
     "text": [
      "      40/50         0G    0.04115          5        640: 100%|██████████| 16/16 [16:35<00:00, 62.23s/it]\n",
      "               classes   top1_acc   top5_acc: 100%|██████████| 3/3 [01:53<00:00, 37.95s/it]"
     ]
    },
    {
     "name": "stdout",
     "output_type": "stream",
     "text": [
      "                   all      0.929          1\n"
     ]
    },
    {
     "name": "stderr",
     "output_type": "stream",
     "text": [
      "\n"
     ]
    },
    {
     "name": "stdout",
     "output_type": "stream",
     "text": [
      "\n",
      "      Epoch    GPU_mem       loss  Instances       Size\n"
     ]
    },
    {
     "name": "stderr",
     "output_type": "stream",
     "text": [
      "      41/50         0G    0.02663          5        640: 100%|██████████| 16/16 [16:37<00:00, 62.35s/it]\n",
      "               classes   top1_acc   top5_acc: 100%|██████████| 3/3 [01:50<00:00, 36.92s/it]"
     ]
    },
    {
     "name": "stdout",
     "output_type": "stream",
     "text": [
      "                   all      0.914          1\n"
     ]
    },
    {
     "name": "stderr",
     "output_type": "stream",
     "text": [
      "\n"
     ]
    },
    {
     "name": "stdout",
     "output_type": "stream",
     "text": [
      "\n",
      "      Epoch    GPU_mem       loss  Instances       Size\n"
     ]
    },
    {
     "name": "stderr",
     "output_type": "stream",
     "text": [
      "      42/50         0G    0.05673          5        640: 100%|██████████| 16/16 [16:37<00:00, 62.35s/it]\n",
      "               classes   top1_acc   top5_acc: 100%|██████████| 3/3 [01:50<00:00, 36.82s/it]"
     ]
    },
    {
     "name": "stdout",
     "output_type": "stream",
     "text": [
      "                   all      0.929          1\n"
     ]
    },
    {
     "name": "stderr",
     "output_type": "stream",
     "text": [
      "\n"
     ]
    },
    {
     "name": "stdout",
     "output_type": "stream",
     "text": [
      "\n",
      "      Epoch    GPU_mem       loss  Instances       Size\n"
     ]
    },
    {
     "name": "stderr",
     "output_type": "stream",
     "text": [
      "      43/50         0G    0.02537          5        640: 100%|██████████| 16/16 [16:19<00:00, 61.22s/it]\n",
      "               classes   top1_acc   top5_acc: 100%|██████████| 3/3 [01:49<00:00, 36.47s/it]"
     ]
    },
    {
     "name": "stdout",
     "output_type": "stream",
     "text": [
      "                   all      0.929          1\n"
     ]
    },
    {
     "name": "stderr",
     "output_type": "stream",
     "text": [
      "\n"
     ]
    },
    {
     "name": "stdout",
     "output_type": "stream",
     "text": [
      "\n",
      "      Epoch    GPU_mem       loss  Instances       Size\n"
     ]
    },
    {
     "name": "stderr",
     "output_type": "stream",
     "text": [
      "      44/50         0G    0.06818          5        640: 100%|██████████| 16/16 [17:00<00:00, 63.75s/it]\n",
      "               classes   top1_acc   top5_acc: 100%|██████████| 3/3 [01:49<00:00, 36.47s/it]"
     ]
    },
    {
     "name": "stdout",
     "output_type": "stream",
     "text": [
      "                   all      0.929          1\n"
     ]
    },
    {
     "name": "stderr",
     "output_type": "stream",
     "text": [
      "\n"
     ]
    },
    {
     "name": "stdout",
     "output_type": "stream",
     "text": [
      "\n",
      "      Epoch    GPU_mem       loss  Instances       Size\n"
     ]
    },
    {
     "name": "stderr",
     "output_type": "stream",
     "text": [
      "      45/50         0G    0.04156          5        640: 100%|██████████| 16/16 [16:36<00:00, 62.29s/it]\n",
      "               classes   top1_acc   top5_acc: 100%|██████████| 3/3 [01:49<00:00, 36.51s/it]"
     ]
    },
    {
     "name": "stdout",
     "output_type": "stream",
     "text": [
      "                   all      0.929          1\n"
     ]
    },
    {
     "name": "stderr",
     "output_type": "stream",
     "text": [
      "\n"
     ]
    },
    {
     "name": "stdout",
     "output_type": "stream",
     "text": [
      "\n",
      "      Epoch    GPU_mem       loss  Instances       Size\n"
     ]
    },
    {
     "name": "stderr",
     "output_type": "stream",
     "text": [
      "      46/50         0G      0.044          5        640: 100%|██████████| 16/16 [16:37<00:00, 62.37s/it]\n",
      "               classes   top1_acc   top5_acc: 100%|██████████| 3/3 [01:49<00:00, 36.64s/it]"
     ]
    },
    {
     "name": "stdout",
     "output_type": "stream",
     "text": [
      "                   all      0.929          1\n"
     ]
    },
    {
     "name": "stderr",
     "output_type": "stream",
     "text": [
      "\n"
     ]
    },
    {
     "name": "stdout",
     "output_type": "stream",
     "text": [
      "\n",
      "      Epoch    GPU_mem       loss  Instances       Size\n"
     ]
    },
    {
     "name": "stderr",
     "output_type": "stream",
     "text": [
      "      47/50         0G    0.03335          5        640: 100%|██████████| 16/16 [16:44<00:00, 62.76s/it]\n",
      "               classes   top1_acc   top5_acc: 100%|██████████| 3/3 [01:50<00:00, 36.70s/it]"
     ]
    },
    {
     "name": "stdout",
     "output_type": "stream",
     "text": [
      "                   all      0.929          1\n"
     ]
    },
    {
     "name": "stderr",
     "output_type": "stream",
     "text": [
      "\n"
     ]
    },
    {
     "name": "stdout",
     "output_type": "stream",
     "text": [
      "\n",
      "      Epoch    GPU_mem       loss  Instances       Size\n"
     ]
    },
    {
     "name": "stderr",
     "output_type": "stream",
     "text": [
      "      48/50         0G    0.02489          5        640: 100%|██████████| 16/16 [16:38<00:00, 62.40s/it]\n",
      "               classes   top1_acc   top5_acc: 100%|██████████| 3/3 [01:48<00:00, 36.19s/it]"
     ]
    },
    {
     "name": "stdout",
     "output_type": "stream",
     "text": [
      "                   all      0.929          1\n"
     ]
    },
    {
     "name": "stderr",
     "output_type": "stream",
     "text": [
      "\n"
     ]
    },
    {
     "name": "stdout",
     "output_type": "stream",
     "text": [
      "\n",
      "      Epoch    GPU_mem       loss  Instances       Size\n"
     ]
    },
    {
     "name": "stderr",
     "output_type": "stream",
     "text": [
      "      49/50         0G    0.05494          5        640: 100%|██████████| 16/16 [16:40<00:00, 62.51s/it]\n",
      "               classes   top1_acc   top5_acc: 100%|██████████| 3/3 [01:51<00:00, 37.27s/it]"
     ]
    },
    {
     "name": "stdout",
     "output_type": "stream",
     "text": [
      "                   all      0.914          1\n"
     ]
    },
    {
     "name": "stderr",
     "output_type": "stream",
     "text": [
      "\n"
     ]
    },
    {
     "name": "stdout",
     "output_type": "stream",
     "text": [
      "\n",
      "      Epoch    GPU_mem       loss  Instances       Size\n"
     ]
    },
    {
     "name": "stderr",
     "output_type": "stream",
     "text": [
      "      50/50         0G    0.04751          5        640: 100%|██████████| 16/16 [17:13<00:00, 64.59s/it]\n",
      "               classes   top1_acc   top5_acc: 100%|██████████| 3/3 [01:52<00:00, 37.41s/it]"
     ]
    },
    {
     "name": "stdout",
     "output_type": "stream",
     "text": [
      "                   all      0.929          1\n"
     ]
    },
    {
     "name": "stderr",
     "output_type": "stream",
     "text": [
      "\n"
     ]
    },
    {
     "name": "stdout",
     "output_type": "stream",
     "text": [
      "\n",
      "50 epochs completed in 15.309 hours.\n",
      "Optimizer stripped from runs\\classify\\train4\\weights\\last.pt, 31.7MB\n",
      "Optimizer stripped from runs\\classify\\train4\\weights\\best.pt, 31.7MB\n",
      "\n",
      "Validating runs\\classify\\train4\\weights\\best.pt...\n",
      "Ultralytics YOLOv8.1.15 🚀 Python-3.9.10 torch-2.1.1+cpu CPU (Intel Core(TM) i3-10110U 2.10GHz)\n",
      "YOLOv8m-cls summary (fused): 103 layers, 15767780 parameters, 0 gradients, 41.6 GFLOPs\n",
      "\u001b[34m\u001b[1mtrain:\u001b[0m C:\\ide\\master\\datasets\\cartilage_YOLO_dataset\\HE_dataset\\train... found 245 images in 4 classes ✅ \n",
      "\u001b[34m\u001b[1mval:\u001b[0m C:\\ide\\master\\datasets\\cartilage_YOLO_dataset\\HE_dataset\\val... found 70 images in 4 classes ✅ \n",
      "\u001b[34m\u001b[1mtest:\u001b[0m C:\\ide\\master\\datasets\\cartilage_YOLO_dataset\\HE_dataset\\test... found 36 images in 4 classes ✅ \n"
     ]
    },
    {
     "name": "stderr",
     "output_type": "stream",
     "text": [
      "               classes   top1_acc   top5_acc: 100%|██████████| 3/3 [01:46<00:00, 35.65s/it]\n"
     ]
    },
    {
     "name": "stdout",
     "output_type": "stream",
     "text": [
      "                   all      0.957          1\n",
      "Speed: 0.0ms preprocess, 659.9ms inference, 0.0ms loss, 0.0ms postprocess per image\n",
      "Results saved to \u001b[1mruns\\classify\\train4\u001b[0m\n",
      "Results saved to \u001b[1mruns\\classify\\train4\u001b[0m\n",
      "2024-04-20 16:47:19,874 - clearml.storage - INFO - Starting upload: runs\\classify\\train4\\weights\\best.pt => https://files.clear.ml/cart_classification/yolo8s-cls.fabca85a3daa4d14b29d097021a3fea5/models/best.pt\n"
     ]
    },
    {
     "data": {
      "text/plain": [
       "ultralytics.utils.metrics.ClassifyMetrics object with attributes:\n",
       "\n",
       "confusion_matrix: <ultralytics.utils.metrics.ConfusionMatrix object at 0x0000016E0AA82670>\n",
       "curves: []\n",
       "curves_results: []\n",
       "fitness: 0.9785714149475098\n",
       "keys: ['metrics/accuracy_top1', 'metrics/accuracy_top5']\n",
       "results_dict: {'metrics/accuracy_top1': 0.9571428298950195, 'metrics/accuracy_top5': 1.0, 'fitness': 0.9785714149475098}\n",
       "save_dir: WindowsPath('runs/classify/train4')\n",
       "speed: {'preprocess': 0.0, 'inference': 659.8957606724331, 'loss': 0.0, 'postprocess': 0.0}\n",
       "task: 'classify'\n",
       "top1: 0.9571428298950195\n",
       "top5: 1.0"
      ]
     },
     "execution_count": 99,
     "metadata": {},
     "output_type": "execute_result"
    },
    {
     "data": {
      "image/png": "[encoded data removed]",
      "text/plain": [
       "<Figure size 640x480 with 1 Axes>"
      ]
     },
     "metadata": {},
     "output_type": "display_data"
    },
    {
     "data": {
      "image/png": "[encoded data removed]",
      "text/plain": [
       "<Figure size 640x480 with 1 Axes>"
      ]
     },
     "metadata": {},
     "output_type": "display_data"
    },
    {
     "data": {
      "image/png": "[encoded data removed]",
      "text/plain": [
       "<Figure size 640x480 with 1 Axes>"
      ]
     },
     "metadata": {},
     "output_type": "display_data"
    }
   ],
   "source": [
    "HE_m_model.train(data=\"C:/ide/master/datasets/cartilage_YOLO_dataset/HE_dataset/\", imgsz = 640, epochs=50, cls = 0.5, hsv_h = 0.015,\n",
    "hsv_s = 0.1,\n",
    "hsv_v = 0.1,\n",
    "translate = 0.1,\n",
    "scale = 0.1,\n",
    "shear = 0.0,\n",
    "degrees = 180,\n",
    "perspective = 0.0001,\n",
    "flipud = 0.2,\n",
    "fliplr = 0.2,\n",
    "mosaic = 1.0,\n",
    "mixup = 0.05,\n",
    "copy_paste = 0.05,\n",
    "erasing = 0.1,\n",
    "crop_fraction = 1.0\n",
    ") "
   ]
  },
  {
   "cell_type": "code",
   "execution_count": 73,
   "metadata": {},
   "outputs": [],
   "source": [
    "s_c_model = YOLO('yolov8m-cls.pt')"
   ]
  },
  {
   "cell_type": "code",
   "execution_count": 74,
   "metadata": {},
   "outputs": [
    {
     "name": "stdout",
     "output_type": "stream",
     "text": [
      "New https://pypi.org/project/ultralytics/8.2.1 available 😃 Update with 'pip install -U ultralytics'\n",
      "Ultralytics YOLOv8.1.15 🚀 Python-3.9.10 torch-2.1.1+cpu CPU (Intel Core(TM) i3-10110U 2.10GHz)\n",
      "\u001b[34m\u001b[1mengine\\trainer: \u001b[0mtask=classify, mode=train, model=yolov8m-cls.pt, data=C:/ide/master/datasets/cartilage_YOLO_dataset/SafO_dataset/, epochs=50, time=None, patience=50, batch=16, imgsz=640, save=True, save_period=-1, cache=False, device=None, workers=8, project=None, name=train2, exist_ok=False, pretrained=True, optimizer=auto, verbose=True, seed=0, deterministic=True, single_cls=False, rect=False, cos_lr=False, close_mosaic=10, resume=False, amp=True, fraction=1.0, profile=False, freeze=None, multi_scale=False, overlap_mask=True, mask_ratio=4, dropout=0.0, val=True, split=val, save_json=False, save_hybrid=False, conf=None, iou=0.7, max_det=300, half=False, dnn=False, plots=True, source=None, vid_stride=1, stream_buffer=False, visualize=False, augment=False, agnostic_nms=False, classes=None, retina_masks=False, embed=None, show=False, save_frames=False, save_txt=False, save_conf=False, save_crop=False, show_labels=True, show_conf=True, show_boxes=True, line_width=None, format=torchscript, keras=False, optimize=False, int8=False, dynamic=False, simplify=False, opset=None, workspace=4, nms=False, lr0=0.01, lrf=0.01, momentum=0.937, weight_decay=0.0005, warmup_epochs=3.0, warmup_momentum=0.8, warmup_bias_lr=0.1, box=7.5, cls=0.5, dfl=1.5, pose=12.0, kobj=1.0, label_smoothing=0.0, nbs=64, hsv_h=0.015, hsv_s=0.1, hsv_v=0.1, degrees=180, translate=0.1, scale=0.1, shear=0.0, perspective=0.0001, flipud=0.2, fliplr=0.2, mosaic=1.0, mixup=0.05, copy_paste=0.05, auto_augment=randaugment, erasing=0.1, crop_fraction=1.0, cfg=None, tracker=botsort.yaml, save_dir=runs\\classify\\train2\n",
      "\u001b[34m\u001b[1mtrain:\u001b[0m C:\\ide\\master\\datasets\\cartilage_YOLO_dataset\\SafO_dataset\\train... found 245 images in 4 classes ✅ \n",
      "\u001b[34m\u001b[1mval:\u001b[0m C:\\ide\\master\\datasets\\cartilage_YOLO_dataset\\SafO_dataset\\val... found 70 images in 4 classes ✅ \n",
      "\u001b[34m\u001b[1mtest:\u001b[0m C:\\ide\\master\\datasets\\cartilage_YOLO_dataset\\SafO_dataset\\test... found 35 images in 3 classes: ERROR ❌️ requires 4 classes, not 3\n",
      "Overriding model.yaml nc=1000 with nc=4\n",
      "\n",
      "                   from  n    params  module                                       arguments                     \n",
      "  0                  -1  1      1392  ultralytics.nn.modules.conv.Conv             [3, 48, 3, 2]                 \n",
      "  1                  -1  1     41664  ultralytics.nn.modules.conv.Conv             [48, 96, 3, 2]                \n",
      "  2                  -1  2    111360  ultralytics.nn.modules.block.C2f             [96, 96, 2, True]             \n",
      "  3                  -1  1    166272  ultralytics.nn.modules.conv.Conv             [96, 192, 3, 2]               \n",
      "  4                  -1  4    813312  ultralytics.nn.modules.block.C2f             [192, 192, 4, True]           \n",
      "  5                  -1  1    664320  ultralytics.nn.modules.conv.Conv             [192, 384, 3, 2]              \n",
      "  6                  -1  4   3248640  ultralytics.nn.modules.block.C2f             [384, 384, 4, True]           \n",
      "  7                  -1  1   2655744  ultralytics.nn.modules.conv.Conv             [384, 768, 3, 2]              \n",
      "  8                  -1  2   7084032  ultralytics.nn.modules.block.C2f             [768, 768, 2, True]           \n",
      "  9                  -1  1    990724  ultralytics.nn.modules.head.Classify         [768, 4]                      \n",
      "YOLOv8m-cls summary: 141 layers, 15777460 parameters, 15777460 gradients, 41.9 GFLOPs\n",
      "Transferred 228/230 items from pretrained weights\n",
      "WARNING ⚠️ ClearML installed but not initialized correctly, not logging this run. It seems ClearML is not configured on this machine!\n",
      "To get started with ClearML, setup your own 'clearml-server' or create a free account at https://app.clear.ml\n",
      "Setup instructions can be found here: https://clear.ml/docs\n"
     ]
    },
    {
     "name": "stderr",
     "output_type": "stream",
     "text": [
      "\u001b[34m\u001b[1mtrain: \u001b[0mScanning C:\\ide\\master\\datasets\\cartilage_YOLO_dataset\\SafO_dataset\\train... 244 images, 1 corrupt: 100%|██████████| 244/244 [00:00<?, ?it/s]"
     ]
    },
    {
     "name": "stdout",
     "output_type": "stream",
     "text": [
      "\u001b[34m\u001b[1mtrain: \u001b[0mWARNING ⚠️ C:\\ide\\master\\datasets\\cartilage_YOLO_dataset\\SafO_dataset\\train\\mild\\SafO-173, section 4.tif: ignoring corrupt image/label: Image size (182377924 pixels) exceeds limit of 178956970 pixels, could be decompression bomb DOS attack.\n"
     ]
    },
    {
     "name": "stderr",
     "output_type": "stream",
     "text": [
      "\n",
      "\u001b[34m\u001b[1mval: \u001b[0mScanning C:\\ide\\master\\datasets\\cartilage_YOLO_dataset\\SafO_dataset\\val... 70 images, 0 corrupt: 100%|██████████| 70/70 [00:00<?, ?it/s]"
     ]
    },
    {
     "name": "stdout",
     "output_type": "stream",
     "text": [
      "\u001b[34m\u001b[1moptimizer:\u001b[0m 'optimizer=auto' found, ignoring 'lr0=0.01' and 'momentum=0.937' and determining best 'optimizer', 'lr0' and 'momentum' automatically... \n"
     ]
    },
    {
     "name": "stderr",
     "output_type": "stream",
     "text": [
      "\n"
     ]
    },
    {
     "name": "stdout",
     "output_type": "stream",
     "text": [
      "\u001b[34m\u001b[1moptimizer:\u001b[0m AdamW(lr=0.000714, momentum=0.9) with parameter groups 38 weight(decay=0.0), 39 weight(decay=0.0005), 39 bias(decay=0.0)\n",
      "Image sizes 640 train, 640 val\n",
      "Using 0 dataloader workers\n",
      "Logging results to \u001b[1mruns\\classify\\train2\u001b[0m\n",
      "Starting training for 50 epochs...\n",
      "\n",
      "      Epoch    GPU_mem       loss  Instances       Size\n"
     ]
    },
    {
     "name": "stderr",
     "output_type": "stream",
     "text": [
      "       1/50         0G      1.391          4        640: 100%|██████████| 16/16 [19:30<00:00, 73.13s/it]\n",
      "               classes   top1_acc   top5_acc: 100%|██████████| 3/3 [01:44<00:00, 34.75s/it]"
     ]
    },
    {
     "name": "stdout",
     "output_type": "stream",
     "text": [
      "                   all      0.671          1\n"
     ]
    },
    {
     "name": "stderr",
     "output_type": "stream",
     "text": [
      "\n"
     ]
    },
    {
     "name": "stdout",
     "output_type": "stream",
     "text": [
      "\n",
      "      Epoch    GPU_mem       loss  Instances       Size\n"
     ]
    },
    {
     "name": "stderr",
     "output_type": "stream",
     "text": [
      "       2/50         0G      1.019          4        640: 100%|██████████| 16/16 [15:48<00:00, 59.31s/it]\n",
      "               classes   top1_acc   top5_acc: 100%|██████████| 3/3 [01:46<00:00, 35.47s/it]"
     ]
    },
    {
     "name": "stdout",
     "output_type": "stream",
     "text": [
      "                   all      0.643          1\n"
     ]
    },
    {
     "name": "stderr",
     "output_type": "stream",
     "text": [
      "\n"
     ]
    },
    {
     "name": "stdout",
     "output_type": "stream",
     "text": [
      "\n",
      "      Epoch    GPU_mem       loss  Instances       Size\n"
     ]
    },
    {
     "name": "stderr",
     "output_type": "stream",
     "text": [
      "       3/50         0G     0.9148          4        640: 100%|██████████| 16/16 [16:01<00:00, 60.09s/it]\n",
      "               classes   top1_acc   top5_acc: 100%|██████████| 3/3 [01:51<00:00, 37.00s/it]"
     ]
    },
    {
     "name": "stdout",
     "output_type": "stream",
     "text": [
      "                   all      0.643          1\n"
     ]
    },
    {
     "name": "stderr",
     "output_type": "stream",
     "text": [
      "\n"
     ]
    },
    {
     "name": "stdout",
     "output_type": "stream",
     "text": [
      "\n",
      "      Epoch    GPU_mem       loss  Instances       Size\n"
     ]
    },
    {
     "name": "stderr",
     "output_type": "stream",
     "text": [
      "       4/50         0G     0.8573          4        640: 100%|██████████| 16/16 [15:48<00:00, 59.30s/it]\n",
      "               classes   top1_acc   top5_acc: 100%|██████████| 3/3 [01:51<00:00, 37.13s/it]"
     ]
    },
    {
     "name": "stdout",
     "output_type": "stream",
     "text": [
      "                   all        0.7          1\n"
     ]
    },
    {
     "name": "stderr",
     "output_type": "stream",
     "text": [
      "\n"
     ]
    },
    {
     "name": "stdout",
     "output_type": "stream",
     "text": [
      "\n",
      "      Epoch    GPU_mem       loss  Instances       Size\n"
     ]
    },
    {
     "name": "stderr",
     "output_type": "stream",
     "text": [
      "       5/50         0G     0.7395          4        640: 100%|██████████| 16/16 [16:07<00:00, 60.49s/it]\n",
      "               classes   top1_acc   top5_acc: 100%|██████████| 3/3 [01:51<00:00, 37.17s/it]"
     ]
    },
    {
     "name": "stdout",
     "output_type": "stream",
     "text": [
      "                   all      0.786          1\n"
     ]
    },
    {
     "name": "stderr",
     "output_type": "stream",
     "text": [
      "\n"
     ]
    },
    {
     "name": "stdout",
     "output_type": "stream",
     "text": [
      "\n",
      "      Epoch    GPU_mem       loss  Instances       Size\n"
     ]
    },
    {
     "name": "stderr",
     "output_type": "stream",
     "text": [
      "       6/50         0G     0.5761          4        640: 100%|██████████| 16/16 [15:51<00:00, 59.44s/it]\n",
      "               classes   top1_acc   top5_acc: 100%|██████████| 3/3 [01:50<00:00, 36.80s/it]"
     ]
    },
    {
     "name": "stdout",
     "output_type": "stream",
     "text": [
      "                   all      0.814          1\n"
     ]
    },
    {
     "name": "stderr",
     "output_type": "stream",
     "text": [
      "\n"
     ]
    },
    {
     "name": "stdout",
     "output_type": "stream",
     "text": [
      "\n",
      "      Epoch    GPU_mem       loss  Instances       Size\n"
     ]
    },
    {
     "name": "stderr",
     "output_type": "stream",
     "text": [
      "       7/50         0G     0.4698          4        640: 100%|██████████| 16/16 [15:38<00:00, 58.67s/it]\n",
      "               classes   top1_acc   top5_acc: 100%|██████████| 3/3 [01:50<00:00, 36.76s/it]"
     ]
    },
    {
     "name": "stdout",
     "output_type": "stream",
     "text": [
      "                   all      0.857          1\n"
     ]
    },
    {
     "name": "stderr",
     "output_type": "stream",
     "text": [
      "\n"
     ]
    },
    {
     "name": "stdout",
     "output_type": "stream",
     "text": [
      "\n",
      "      Epoch    GPU_mem       loss  Instances       Size\n"
     ]
    },
    {
     "name": "stderr",
     "output_type": "stream",
     "text": [
      "       8/50         0G     0.4099          4        640: 100%|██████████| 16/16 [15:43<00:00, 58.96s/it]\n",
      "               classes   top1_acc   top5_acc: 100%|██████████| 3/3 [01:50<00:00, 36.94s/it]"
     ]
    },
    {
     "name": "stdout",
     "output_type": "stream",
     "text": [
      "                   all        0.8          1\n"
     ]
    },
    {
     "name": "stderr",
     "output_type": "stream",
     "text": [
      "\n"
     ]
    },
    {
     "name": "stdout",
     "output_type": "stream",
     "text": [
      "\n",
      "      Epoch    GPU_mem       loss  Instances       Size\n"
     ]
    },
    {
     "name": "stderr",
     "output_type": "stream",
     "text": [
      "       9/50         0G     0.3402          4        640: 100%|██████████| 16/16 [15:44<00:00, 59.02s/it]\n",
      "               classes   top1_acc   top5_acc: 100%|██████████| 3/3 [01:50<00:00, 36.83s/it]"
     ]
    },
    {
     "name": "stdout",
     "output_type": "stream",
     "text": [
      "                   all        0.8          1\n"
     ]
    },
    {
     "name": "stderr",
     "output_type": "stream",
     "text": [
      "\n"
     ]
    },
    {
     "name": "stdout",
     "output_type": "stream",
     "text": [
      "\n",
      "      Epoch    GPU_mem       loss  Instances       Size\n"
     ]
    },
    {
     "name": "stderr",
     "output_type": "stream",
     "text": [
      "      10/50         0G     0.3569          4        640: 100%|██████████| 16/16 [15:50<00:00, 59.39s/it]\n",
      "               classes   top1_acc   top5_acc: 100%|██████████| 3/3 [01:50<00:00, 36.72s/it]"
     ]
    },
    {
     "name": "stdout",
     "output_type": "stream",
     "text": [
      "                   all      0.814          1\n"
     ]
    },
    {
     "name": "stderr",
     "output_type": "stream",
     "text": [
      "\n"
     ]
    },
    {
     "name": "stdout",
     "output_type": "stream",
     "text": [
      "\n",
      "      Epoch    GPU_mem       loss  Instances       Size\n"
     ]
    },
    {
     "name": "stderr",
     "output_type": "stream",
     "text": [
      "      11/50         0G     0.3115          4        640: 100%|██████████| 16/16 [15:43<00:00, 58.99s/it]\n",
      "               classes   top1_acc   top5_acc: 100%|██████████| 3/3 [01:49<00:00, 36.66s/it]"
     ]
    },
    {
     "name": "stdout",
     "output_type": "stream",
     "text": [
      "                   all      0.871          1\n"
     ]
    },
    {
     "name": "stderr",
     "output_type": "stream",
     "text": [
      "\n"
     ]
    },
    {
     "name": "stdout",
     "output_type": "stream",
     "text": [
      "\n",
      "      Epoch    GPU_mem       loss  Instances       Size\n"
     ]
    },
    {
     "name": "stderr",
     "output_type": "stream",
     "text": [
      "      12/50         0G     0.2544          4        640: 100%|██████████| 16/16 [15:35<00:00, 58.49s/it]\n",
      "               classes   top1_acc   top5_acc: 100%|██████████| 3/3 [01:52<00:00, 37.37s/it]"
     ]
    },
    {
     "name": "stdout",
     "output_type": "stream",
     "text": [
      "                   all      0.929          1\n"
     ]
    },
    {
     "name": "stderr",
     "output_type": "stream",
     "text": [
      "\n"
     ]
    },
    {
     "name": "stdout",
     "output_type": "stream",
     "text": [
      "\n",
      "      Epoch    GPU_mem       loss  Instances       Size\n"
     ]
    },
    {
     "name": "stderr",
     "output_type": "stream",
     "text": [
      "      13/50         0G     0.1968          4        640: 100%|██████████| 16/16 [15:42<00:00, 58.94s/it]\n",
      "               classes   top1_acc   top5_acc: 100%|██████████| 3/3 [01:50<00:00, 36.73s/it]"
     ]
    },
    {
     "name": "stdout",
     "output_type": "stream",
     "text": [
      "                   all      0.857          1\n"
     ]
    },
    {
     "name": "stderr",
     "output_type": "stream",
     "text": [
      "\n"
     ]
    },
    {
     "name": "stdout",
     "output_type": "stream",
     "text": [
      "\n",
      "      Epoch    GPU_mem       loss  Instances       Size\n"
     ]
    },
    {
     "name": "stderr",
     "output_type": "stream",
     "text": [
      "      14/50         0G     0.2318          4        640: 100%|██████████| 16/16 [17:59<00:00, 67.44s/it]\n",
      "               classes   top1_acc   top5_acc: 100%|██████████| 3/3 [01:50<00:00, 36.79s/it]"
     ]
    },
    {
     "name": "stdout",
     "output_type": "stream",
     "text": [
      "                   all        0.9          1\n"
     ]
    },
    {
     "name": "stderr",
     "output_type": "stream",
     "text": [
      "\n"
     ]
    },
    {
     "name": "stdout",
     "output_type": "stream",
     "text": [
      "\n",
      "      Epoch    GPU_mem       loss  Instances       Size\n"
     ]
    },
    {
     "name": "stderr",
     "output_type": "stream",
     "text": [
      "      15/50         0G     0.1215          4        640: 100%|██████████| 16/16 [16:08<00:00, 60.52s/it]\n",
      "               classes   top1_acc   top5_acc: 100%|██████████| 3/3 [01:50<00:00, 36.72s/it]"
     ]
    },
    {
     "name": "stdout",
     "output_type": "stream",
     "text": [
      "                   all        0.9          1\n"
     ]
    },
    {
     "name": "stderr",
     "output_type": "stream",
     "text": [
      "\n"
     ]
    },
    {
     "name": "stdout",
     "output_type": "stream",
     "text": [
      "\n",
      "      Epoch    GPU_mem       loss  Instances       Size\n"
     ]
    },
    {
     "name": "stderr",
     "output_type": "stream",
     "text": [
      "      16/50         0G     0.2139          4        640: 100%|██████████| 16/16 [16:21<00:00, 61.37s/it]\n",
      "               classes   top1_acc   top5_acc: 100%|██████████| 3/3 [01:51<00:00, 37.13s/it]"
     ]
    },
    {
     "name": "stdout",
     "output_type": "stream",
     "text": [
      "                   all      0.886          1\n"
     ]
    },
    {
     "name": "stderr",
     "output_type": "stream",
     "text": [
      "\n"
     ]
    },
    {
     "name": "stdout",
     "output_type": "stream",
     "text": [
      "\n",
      "      Epoch    GPU_mem       loss  Instances       Size\n"
     ]
    },
    {
     "name": "stderr",
     "output_type": "stream",
     "text": [
      "      17/50         0G     0.1491          4        640: 100%|██████████| 16/16 [16:17<00:00, 61.11s/it]\n",
      "               classes   top1_acc   top5_acc: 100%|██████████| 3/3 [01:54<00:00, 38.33s/it]"
     ]
    },
    {
     "name": "stdout",
     "output_type": "stream",
     "text": [
      "                   all      0.857          1\n"
     ]
    },
    {
     "name": "stderr",
     "output_type": "stream",
     "text": [
      "\n"
     ]
    },
    {
     "name": "stdout",
     "output_type": "stream",
     "text": [
      "\n",
      "      Epoch    GPU_mem       loss  Instances       Size\n"
     ]
    },
    {
     "name": "stderr",
     "output_type": "stream",
     "text": [
      "      18/50         0G     0.1312          4        640: 100%|██████████| 16/16 [16:18<00:00, 61.17s/it]\n",
      "               classes   top1_acc   top5_acc: 100%|██████████| 3/3 [01:51<00:00, 37.29s/it]"
     ]
    },
    {
     "name": "stdout",
     "output_type": "stream",
     "text": [
      "                   all        0.9          1\n"
     ]
    },
    {
     "name": "stderr",
     "output_type": "stream",
     "text": [
      "\n"
     ]
    },
    {
     "name": "stdout",
     "output_type": "stream",
     "text": [
      "\n",
      "      Epoch    GPU_mem       loss  Instances       Size\n"
     ]
    },
    {
     "name": "stderr",
     "output_type": "stream",
     "text": [
      "      19/50         0G     0.1672          4        640: 100%|██████████| 16/16 [16:21<00:00, 61.32s/it]\n",
      "               classes   top1_acc   top5_acc: 100%|██████████| 3/3 [01:51<00:00, 37.22s/it]"
     ]
    },
    {
     "name": "stdout",
     "output_type": "stream",
     "text": [
      "                   all        0.9          1\n"
     ]
    },
    {
     "name": "stderr",
     "output_type": "stream",
     "text": [
      "\n"
     ]
    },
    {
     "name": "stdout",
     "output_type": "stream",
     "text": [
      "\n",
      "      Epoch    GPU_mem       loss  Instances       Size\n"
     ]
    },
    {
     "name": "stderr",
     "output_type": "stream",
     "text": [
      "      20/50         0G     0.1024          4        640: 100%|██████████| 16/16 [16:18<00:00, 61.16s/it]\n",
      "               classes   top1_acc   top5_acc: 100%|██████████| 3/3 [01:51<00:00, 37.31s/it]"
     ]
    },
    {
     "name": "stdout",
     "output_type": "stream",
     "text": [
      "                   all        0.9          1\n"
     ]
    },
    {
     "name": "stderr",
     "output_type": "stream",
     "text": [
      "\n"
     ]
    },
    {
     "name": "stdout",
     "output_type": "stream",
     "text": [
      "\n",
      "      Epoch    GPU_mem       loss  Instances       Size\n"
     ]
    },
    {
     "name": "stderr",
     "output_type": "stream",
     "text": [
      "      21/50         0G     0.1298          4        640: 100%|██████████| 16/16 [16:15<00:00, 60.97s/it]\n",
      "               classes   top1_acc   top5_acc: 100%|██████████| 3/3 [01:51<00:00, 37.05s/it]\n"
     ]
    },
    {
     "name": "stdout",
     "output_type": "stream",
     "text": [
      "                   all        0.9          1\n",
      "\n",
      "      Epoch    GPU_mem       loss  Instances       Size\n"
     ]
    },
    {
     "name": "stderr",
     "output_type": "stream",
     "text": [
      "      22/50         0G     0.1239          4        640: 100%|██████████| 16/16 [16:21<00:00, 61.37s/it]\n",
      "               classes   top1_acc   top5_acc: 100%|██████████| 3/3 [01:51<00:00, 37.19s/it]"
     ]
    },
    {
     "name": "stdout",
     "output_type": "stream",
     "text": [
      "                   all      0.886          1\n"
     ]
    },
    {
     "name": "stderr",
     "output_type": "stream",
     "text": [
      "\n"
     ]
    },
    {
     "name": "stdout",
     "output_type": "stream",
     "text": [
      "\n",
      "      Epoch    GPU_mem       loss  Instances       Size\n"
     ]
    },
    {
     "name": "stderr",
     "output_type": "stream",
     "text": [
      "      23/50         0G     0.1231          4        640: 100%|██████████| 16/16 [16:23<00:00, 61.45s/it]\n",
      "               classes   top1_acc   top5_acc: 100%|██████████| 3/3 [01:51<00:00, 37.14s/it]"
     ]
    },
    {
     "name": "stdout",
     "output_type": "stream",
     "text": [
      "                   all      0.914          1\n"
     ]
    },
    {
     "name": "stderr",
     "output_type": "stream",
     "text": [
      "\n"
     ]
    },
    {
     "name": "stdout",
     "output_type": "stream",
     "text": [
      "\n",
      "      Epoch    GPU_mem       loss  Instances       Size\n"
     ]
    },
    {
     "name": "stderr",
     "output_type": "stream",
     "text": [
      "      24/50         0G     0.1833          4        640: 100%|██████████| 16/16 [16:22<00:00, 61.38s/it]\n",
      "               classes   top1_acc   top5_acc: 100%|██████████| 3/3 [01:51<00:00, 37.04s/it]"
     ]
    },
    {
     "name": "stdout",
     "output_type": "stream",
     "text": [
      "                   all        0.9          1\n"
     ]
    },
    {
     "name": "stderr",
     "output_type": "stream",
     "text": [
      "\n"
     ]
    },
    {
     "name": "stdout",
     "output_type": "stream",
     "text": [
      "\n",
      "      Epoch    GPU_mem       loss  Instances       Size\n"
     ]
    },
    {
     "name": "stderr",
     "output_type": "stream",
     "text": [
      "      25/50         0G      0.103          4        640: 100%|██████████| 16/16 [16:12<00:00, 60.78s/it]\n",
      "               classes   top1_acc   top5_acc: 100%|██████████| 3/3 [01:52<00:00, 37.34s/it]"
     ]
    },
    {
     "name": "stdout",
     "output_type": "stream",
     "text": [
      "                   all      0.929          1\n"
     ]
    },
    {
     "name": "stderr",
     "output_type": "stream",
     "text": [
      "\n"
     ]
    },
    {
     "name": "stdout",
     "output_type": "stream",
     "text": [
      "\n",
      "      Epoch    GPU_mem       loss  Instances       Size\n"
     ]
    },
    {
     "name": "stderr",
     "output_type": "stream",
     "text": [
      "      26/50         0G    0.07716          4        640: 100%|██████████| 16/16 [16:23<00:00, 61.49s/it]\n",
      "               classes   top1_acc   top5_acc: 100%|██████████| 3/3 [01:52<00:00, 37.35s/it]"
     ]
    },
    {
     "name": "stdout",
     "output_type": "stream",
     "text": [
      "                   all        0.9          1\n"
     ]
    },
    {
     "name": "stderr",
     "output_type": "stream",
     "text": [
      "\n"
     ]
    },
    {
     "name": "stdout",
     "output_type": "stream",
     "text": [
      "\n",
      "      Epoch    GPU_mem       loss  Instances       Size\n"
     ]
    },
    {
     "name": "stderr",
     "output_type": "stream",
     "text": [
      "      27/50         0G    0.09249          4        640: 100%|██████████| 16/16 [16:16<00:00, 61.01s/it]\n",
      "               classes   top1_acc   top5_acc: 100%|██████████| 3/3 [01:55<00:00, 38.64s/it]"
     ]
    },
    {
     "name": "stdout",
     "output_type": "stream",
     "text": [
      "                   all        0.9          1\n"
     ]
    },
    {
     "name": "stderr",
     "output_type": "stream",
     "text": [
      "\n"
     ]
    },
    {
     "name": "stdout",
     "output_type": "stream",
     "text": [
      "\n",
      "      Epoch    GPU_mem       loss  Instances       Size\n"
     ]
    },
    {
     "name": "stderr",
     "output_type": "stream",
     "text": [
      "      28/50         0G     0.1429          4        640: 100%|██████████| 16/16 [16:29<00:00, 61.87s/it]\n",
      "               classes   top1_acc   top5_acc: 100%|██████████| 3/3 [01:51<00:00, 37.24s/it]"
     ]
    },
    {
     "name": "stdout",
     "output_type": "stream",
     "text": [
      "                   all      0.914          1\n"
     ]
    },
    {
     "name": "stderr",
     "output_type": "stream",
     "text": [
      "\n"
     ]
    },
    {
     "name": "stdout",
     "output_type": "stream",
     "text": [
      "\n",
      "      Epoch    GPU_mem       loss  Instances       Size\n"
     ]
    },
    {
     "name": "stderr",
     "output_type": "stream",
     "text": [
      "      29/50         0G    0.05567          4        640: 100%|██████████| 16/16 [16:24<00:00, 61.52s/it]\n",
      "               classes   top1_acc   top5_acc: 100%|██████████| 3/3 [01:51<00:00, 37.09s/it]"
     ]
    },
    {
     "name": "stdout",
     "output_type": "stream",
     "text": [
      "                   all      0.886          1\n"
     ]
    },
    {
     "name": "stderr",
     "output_type": "stream",
     "text": [
      "\n"
     ]
    },
    {
     "name": "stdout",
     "output_type": "stream",
     "text": [
      "\n",
      "      Epoch    GPU_mem       loss  Instances       Size\n"
     ]
    },
    {
     "name": "stderr",
     "output_type": "stream",
     "text": [
      "      30/50         0G     0.1161          4        640: 100%|██████████| 16/16 [16:16<00:00, 61.00s/it]\n",
      "               classes   top1_acc   top5_acc: 100%|██████████| 3/3 [01:52<00:00, 37.37s/it]"
     ]
    },
    {
     "name": "stdout",
     "output_type": "stream",
     "text": [
      "                   all      0.886          1\n"
     ]
    },
    {
     "name": "stderr",
     "output_type": "stream",
     "text": [
      "\n"
     ]
    },
    {
     "name": "stdout",
     "output_type": "stream",
     "text": [
      "\n",
      "      Epoch    GPU_mem       loss  Instances       Size\n"
     ]
    },
    {
     "name": "stderr",
     "output_type": "stream",
     "text": [
      "      31/50         0G    0.07568          4        640: 100%|██████████| 16/16 [16:25<00:00, 61.62s/it]\n",
      "               classes   top1_acc   top5_acc: 100%|██████████| 3/3 [01:51<00:00, 37.29s/it]"
     ]
    },
    {
     "name": "stdout",
     "output_type": "stream",
     "text": [
      "                   all        0.9          1\n"
     ]
    },
    {
     "name": "stderr",
     "output_type": "stream",
     "text": [
      "\n"
     ]
    },
    {
     "name": "stdout",
     "output_type": "stream",
     "text": [
      "\n",
      "      Epoch    GPU_mem       loss  Instances       Size\n"
     ]
    },
    {
     "name": "stderr",
     "output_type": "stream",
     "text": [
      "      32/50         0G    0.08419          4        640: 100%|██████████| 16/16 [16:21<00:00, 61.36s/it]\n",
      "               classes   top1_acc   top5_acc: 100%|██████████| 3/3 [01:50<00:00, 36.91s/it]"
     ]
    },
    {
     "name": "stdout",
     "output_type": "stream",
     "text": [
      "                   all      0.914          1\n"
     ]
    },
    {
     "name": "stderr",
     "output_type": "stream",
     "text": [
      "\n"
     ]
    },
    {
     "name": "stdout",
     "output_type": "stream",
     "text": [
      "\n",
      "      Epoch    GPU_mem       loss  Instances       Size\n"
     ]
    },
    {
     "name": "stderr",
     "output_type": "stream",
     "text": [
      "      33/50         0G    0.05577          4        640: 100%|██████████| 16/16 [16:22<00:00, 61.44s/it]\n",
      "               classes   top1_acc   top5_acc: 100%|██████████| 3/3 [01:51<00:00, 37.31s/it]"
     ]
    },
    {
     "name": "stdout",
     "output_type": "stream",
     "text": [
      "                   all      0.929          1\n"
     ]
    },
    {
     "name": "stderr",
     "output_type": "stream",
     "text": [
      "\n"
     ]
    },
    {
     "name": "stdout",
     "output_type": "stream",
     "text": [
      "\n",
      "      Epoch    GPU_mem       loss  Instances       Size\n"
     ]
    },
    {
     "name": "stderr",
     "output_type": "stream",
     "text": [
      "      34/50         0G    0.04235          4        640: 100%|██████████| 16/16 [16:30<00:00, 61.88s/it]\n",
      "               classes   top1_acc   top5_acc: 100%|██████████| 3/3 [01:51<00:00, 37.20s/it]"
     ]
    },
    {
     "name": "stdout",
     "output_type": "stream",
     "text": [
      "                   all      0.929          1\n"
     ]
    },
    {
     "name": "stderr",
     "output_type": "stream",
     "text": [
      "\n"
     ]
    },
    {
     "name": "stdout",
     "output_type": "stream",
     "text": [
      "\n",
      "      Epoch    GPU_mem       loss  Instances       Size\n"
     ]
    },
    {
     "name": "stderr",
     "output_type": "stream",
     "text": [
      "      35/50         0G     0.1015          4        640: 100%|██████████| 16/16 [16:21<00:00, 61.32s/it]\n",
      "               classes   top1_acc   top5_acc: 100%|██████████| 3/3 [01:53<00:00, 37.88s/it]"
     ]
    },
    {
     "name": "stdout",
     "output_type": "stream",
     "text": [
      "                   all      0.929          1\n"
     ]
    },
    {
     "name": "stderr",
     "output_type": "stream",
     "text": [
      "\n"
     ]
    },
    {
     "name": "stdout",
     "output_type": "stream",
     "text": [
      "\n",
      "      Epoch    GPU_mem       loss  Instances       Size\n"
     ]
    },
    {
     "name": "stderr",
     "output_type": "stream",
     "text": [
      "      36/50         0G     0.0908          4        640: 100%|██████████| 16/16 [16:21<00:00, 61.34s/it]\n",
      "               classes   top1_acc   top5_acc: 100%|██████████| 3/3 [01:52<00:00, 37.58s/it]"
     ]
    },
    {
     "name": "stdout",
     "output_type": "stream",
     "text": [
      "                   all      0.929          1\n"
     ]
    },
    {
     "name": "stderr",
     "output_type": "stream",
     "text": [
      "\n"
     ]
    },
    {
     "name": "stdout",
     "output_type": "stream",
     "text": [
      "\n",
      "      Epoch    GPU_mem       loss  Instances       Size\n"
     ]
    },
    {
     "name": "stderr",
     "output_type": "stream",
     "text": [
      "      37/50         0G    0.05724          4        640: 100%|██████████| 16/16 [16:27<00:00, 61.74s/it]\n",
      "               classes   top1_acc   top5_acc: 100%|██████████| 3/3 [01:52<00:00, 37.45s/it]"
     ]
    },
    {
     "name": "stdout",
     "output_type": "stream",
     "text": [
      "                   all      0.929          1\n"
     ]
    },
    {
     "name": "stderr",
     "output_type": "stream",
     "text": [
      "\n"
     ]
    },
    {
     "name": "stdout",
     "output_type": "stream",
     "text": [
      "\n",
      "      Epoch    GPU_mem       loss  Instances       Size\n"
     ]
    },
    {
     "name": "stderr",
     "output_type": "stream",
     "text": [
      "      38/50         0G    0.05219          4        640: 100%|██████████| 16/16 [16:18<00:00, 61.17s/it]\n",
      "               classes   top1_acc   top5_acc: 100%|██████████| 3/3 [01:52<00:00, 37.49s/it]"
     ]
    },
    {
     "name": "stdout",
     "output_type": "stream",
     "text": [
      "                   all      0.914          1\n"
     ]
    },
    {
     "name": "stderr",
     "output_type": "stream",
     "text": [
      "\n"
     ]
    },
    {
     "name": "stdout",
     "output_type": "stream",
     "text": [
      "\n",
      "      Epoch    GPU_mem       loss  Instances       Size\n"
     ]
    },
    {
     "name": "stderr",
     "output_type": "stream",
     "text": [
      "      39/50         0G    0.06567          4        640: 100%|██████████| 16/16 [16:26<00:00, 61.67s/it]\n",
      "               classes   top1_acc   top5_acc: 100%|██████████| 3/3 [01:52<00:00, 37.55s/it]"
     ]
    },
    {
     "name": "stdout",
     "output_type": "stream",
     "text": [
      "                   all      0.929          1\n"
     ]
    },
    {
     "name": "stderr",
     "output_type": "stream",
     "text": [
      "\n"
     ]
    },
    {
     "name": "stdout",
     "output_type": "stream",
     "text": [
      "\n",
      "      Epoch    GPU_mem       loss  Instances       Size\n"
     ]
    },
    {
     "name": "stderr",
     "output_type": "stream",
     "text": [
      "      40/50         0G    0.02805          4        640: 100%|██████████| 16/16 [16:26<00:00, 61.66s/it]\n",
      "               classes   top1_acc   top5_acc: 100%|██████████| 3/3 [01:57<00:00, 39.07s/it]"
     ]
    },
    {
     "name": "stdout",
     "output_type": "stream",
     "text": [
      "                   all      0.914          1\n"
     ]
    },
    {
     "name": "stderr",
     "output_type": "stream",
     "text": [
      "\n"
     ]
    },
    {
     "name": "stdout",
     "output_type": "stream",
     "text": [
      "\n",
      "      Epoch    GPU_mem       loss  Instances       Size\n"
     ]
    },
    {
     "name": "stderr",
     "output_type": "stream",
     "text": [
      "      41/50         0G    0.03804          4        640: 100%|██████████| 16/16 [16:22<00:00, 61.43s/it]\n",
      "               classes   top1_acc   top5_acc: 100%|██████████| 3/3 [01:51<00:00, 37.30s/it]"
     ]
    },
    {
     "name": "stdout",
     "output_type": "stream",
     "text": [
      "                   all      0.929          1\n"
     ]
    },
    {
     "name": "stderr",
     "output_type": "stream",
     "text": [
      "\n"
     ]
    },
    {
     "name": "stdout",
     "output_type": "stream",
     "text": [
      "\n",
      "      Epoch    GPU_mem       loss  Instances       Size\n"
     ]
    },
    {
     "name": "stderr",
     "output_type": "stream",
     "text": [
      "      42/50         0G    0.04119          4        640: 100%|██████████| 16/16 [16:20<00:00, 61.28s/it]\n",
      "               classes   top1_acc   top5_acc: 100%|██████████| 3/3 [01:51<00:00, 37.15s/it]"
     ]
    },
    {
     "name": "stdout",
     "output_type": "stream",
     "text": [
      "                   all      0.929          1\n"
     ]
    },
    {
     "name": "stderr",
     "output_type": "stream",
     "text": [
      "\n"
     ]
    },
    {
     "name": "stdout",
     "output_type": "stream",
     "text": [
      "\n",
      "      Epoch    GPU_mem       loss  Instances       Size\n"
     ]
    },
    {
     "name": "stderr",
     "output_type": "stream",
     "text": [
      "      43/50         0G    0.06083          4        640: 100%|██████████| 16/16 [16:16<00:00, 61.05s/it]\n",
      "               classes   top1_acc   top5_acc: 100%|██████████| 3/3 [01:51<00:00, 37.16s/it]"
     ]
    },
    {
     "name": "stdout",
     "output_type": "stream",
     "text": [
      "                   all      0.929          1\n"
     ]
    },
    {
     "name": "stderr",
     "output_type": "stream",
     "text": [
      "\n"
     ]
    },
    {
     "name": "stdout",
     "output_type": "stream",
     "text": [
      "\n",
      "      Epoch    GPU_mem       loss  Instances       Size\n"
     ]
    },
    {
     "name": "stderr",
     "output_type": "stream",
     "text": [
      "      44/50         0G    0.04063          4        640: 100%|██████████| 16/16 [16:31<00:00, 61.99s/it]\n",
      "               classes   top1_acc   top5_acc: 100%|██████████| 3/3 [01:51<00:00, 37.25s/it]"
     ]
    },
    {
     "name": "stdout",
     "output_type": "stream",
     "text": [
      "                   all      0.929          1\n"
     ]
    },
    {
     "name": "stderr",
     "output_type": "stream",
     "text": [
      "\n"
     ]
    },
    {
     "name": "stdout",
     "output_type": "stream",
     "text": [
      "\n",
      "      Epoch    GPU_mem       loss  Instances       Size\n"
     ]
    },
    {
     "name": "stderr",
     "output_type": "stream",
     "text": [
      "      45/50         0G    0.04815          4        640: 100%|██████████| 16/16 [16:26<00:00, 61.63s/it]\n",
      "               classes   top1_acc   top5_acc: 100%|██████████| 3/3 [01:51<00:00, 37.05s/it]"
     ]
    },
    {
     "name": "stdout",
     "output_type": "stream",
     "text": [
      "                   all      0.943          1\n"
     ]
    },
    {
     "name": "stderr",
     "output_type": "stream",
     "text": [
      "\n"
     ]
    },
    {
     "name": "stdout",
     "output_type": "stream",
     "text": [
      "\n",
      "      Epoch    GPU_mem       loss  Instances       Size\n"
     ]
    },
    {
     "name": "stderr",
     "output_type": "stream",
     "text": [
      "      46/50         0G    0.03651          4        640: 100%|██████████| 16/16 [16:31<00:00, 61.97s/it]\n",
      "               classes   top1_acc   top5_acc: 100%|██████████| 3/3 [01:51<00:00, 37.20s/it]"
     ]
    },
    {
     "name": "stdout",
     "output_type": "stream",
     "text": [
      "                   all      0.914          1\n"
     ]
    },
    {
     "name": "stderr",
     "output_type": "stream",
     "text": [
      "\n"
     ]
    },
    {
     "name": "stdout",
     "output_type": "stream",
     "text": [
      "\n",
      "      Epoch    GPU_mem       loss  Instances       Size\n"
     ]
    },
    {
     "name": "stderr",
     "output_type": "stream",
     "text": [
      "      47/50         0G    0.02844          4        640: 100%|██████████| 16/16 [16:26<00:00, 61.67s/it]\n",
      "               classes   top1_acc   top5_acc: 100%|██████████| 3/3 [01:51<00:00, 37.04s/it]"
     ]
    },
    {
     "name": "stdout",
     "output_type": "stream",
     "text": [
      "                   all      0.929          1\n"
     ]
    },
    {
     "name": "stderr",
     "output_type": "stream",
     "text": [
      "\n"
     ]
    },
    {
     "name": "stdout",
     "output_type": "stream",
     "text": [
      "\n",
      "      Epoch    GPU_mem       loss  Instances       Size\n"
     ]
    },
    {
     "name": "stderr",
     "output_type": "stream",
     "text": [
      "      48/50         0G    0.02784          4        640: 100%|██████████| 16/16 [16:17<00:00, 61.09s/it]\n",
      "               classes   top1_acc   top5_acc: 100%|██████████| 3/3 [01:51<00:00, 37.01s/it]"
     ]
    },
    {
     "name": "stdout",
     "output_type": "stream",
     "text": [
      "                   all      0.943          1\n"
     ]
    },
    {
     "name": "stderr",
     "output_type": "stream",
     "text": [
      "\n"
     ]
    },
    {
     "name": "stdout",
     "output_type": "stream",
     "text": [
      "\n",
      "      Epoch    GPU_mem       loss  Instances       Size\n"
     ]
    },
    {
     "name": "stderr",
     "output_type": "stream",
     "text": [
      "      49/50         0G    0.02772          4        640: 100%|██████████| 16/16 [16:29<00:00, 61.82s/it]\n",
      "               classes   top1_acc   top5_acc: 100%|██████████| 3/3 [01:51<00:00, 37.25s/it]\n"
     ]
    },
    {
     "name": "stdout",
     "output_type": "stream",
     "text": [
      "                   all      0.943          1\n",
      "\n",
      "      Epoch    GPU_mem       loss  Instances       Size\n"
     ]
    },
    {
     "name": "stderr",
     "output_type": "stream",
     "text": [
      "      50/50         0G    0.04155          4        640: 100%|██████████| 16/16 [16:22<00:00, 61.38s/it]\n",
      "               classes   top1_acc   top5_acc: 100%|██████████| 3/3 [01:51<00:00, 37.05s/it]"
     ]
    },
    {
     "name": "stdout",
     "output_type": "stream",
     "text": [
      "                   all      0.943          1\n"
     ]
    },
    {
     "name": "stderr",
     "output_type": "stream",
     "text": [
      "\n"
     ]
    },
    {
     "name": "stdout",
     "output_type": "stream",
     "text": [
      "\n",
      "50 epochs completed in 15.173 hours.\n",
      "Optimizer stripped from runs\\classify\\train2\\weights\\last.pt, 31.7MB\n",
      "Optimizer stripped from runs\\classify\\train2\\weights\\best.pt, 31.7MB\n",
      "\n",
      "Validating runs\\classify\\train2\\weights\\best.pt...\n",
      "Ultralytics YOLOv8.1.15 🚀 Python-3.9.10 torch-2.1.1+cpu CPU (Intel Core(TM) i3-10110U 2.10GHz)\n",
      "YOLOv8m-cls summary (fused): 103 layers, 15767780 parameters, 0 gradients, 41.6 GFLOPs\n",
      "\u001b[34m\u001b[1mtrain:\u001b[0m C:\\ide\\master\\datasets\\cartilage_YOLO_dataset\\SafO_dataset\\train... found 245 images in 4 classes ✅ \n",
      "\u001b[34m\u001b[1mval:\u001b[0m C:\\ide\\master\\datasets\\cartilage_YOLO_dataset\\SafO_dataset\\val... found 70 images in 4 classes ✅ \n",
      "\u001b[34m\u001b[1mtest:\u001b[0m C:\\ide\\master\\datasets\\cartilage_YOLO_dataset\\SafO_dataset\\test... found 35 images in 3 classes: ERROR ❌️ requires 4 classes, not 3\n"
     ]
    },
    {
     "name": "stderr",
     "output_type": "stream",
     "text": [
      "               classes   top1_acc   top5_acc: 100%|██████████| 3/3 [01:46<00:00, 35.38s/it]\n"
     ]
    },
    {
     "name": "stdout",
     "output_type": "stream",
     "text": [
      "                   all      0.943          1\n",
      "Speed: 0.0ms preprocess, 647.0ms inference, 0.0ms loss, 0.0ms postprocess per image\n",
      "Results saved to \u001b[1mruns\\classify\\train2\u001b[0m\n",
      "Results saved to \u001b[1mruns\\classify\\train2\u001b[0m\n"
     ]
    },
    {
     "data": {
      "text/plain": [
       "ultralytics.utils.metrics.ClassifyMetrics object with attributes:\n",
       "\n",
       "confusion_matrix: <ultralytics.utils.metrics.ConfusionMatrix object at 0x0000016E22225E50>\n",
       "curves: []\n",
       "curves_results: []\n",
       "fitness: 0.9714285731315613\n",
       "keys: ['metrics/accuracy_top1', 'metrics/accuracy_top5']\n",
       "results_dict: {'metrics/accuracy_top1': 0.9428571462631226, 'metrics/accuracy_top5': 1.0, 'fitness': 0.9714285731315613}\n",
       "save_dir: WindowsPath('runs/classify/train2')\n",
       "speed: {'preprocess': 0.0, 'inference': 647.018439429147, 'loss': 0.0, 'postprocess': 0.0}\n",
       "task: 'classify'\n",
       "top1: 0.9428571462631226\n",
       "top5: 1.0"
      ]
     },
     "execution_count": 74,
     "metadata": {},
     "output_type": "execute_result"
    }
   ],
   "source": [
    "s_c_model.train(data=\"C:/ide/master/datasets/cartilage_YOLO_dataset/SafO_dataset/\", imgsz = 640, epochs=50, cls = 0.5, hsv_h = 0.015,\n",
    "hsv_s = 0.1,\n",
    "hsv_v = 0.1,\n",
    "translate = 0.1,\n",
    "scale = 0.1,\n",
    "shear = 0.0,\n",
    "degrees = 180,\n",
    "perspective = 0.0001,\n",
    "flipud = 0.2,\n",
    "fliplr = 0.2,\n",
    "mosaic = 1.0,\n",
    "mixup = 0.05,\n",
    "erasing = 0.1,\n",
    "crop_fraction = 1.0\n",
    ") "
   ]
  }
 ],
 "metadata": {
  "kernelspec": {
   "display_name": "Python 3",
   "language": "python",
   "name": "python3"
  },
  "language_info": {
   "codemirror_mode": {
    "name": "ipython",
    "version": 3
   },
   "file_extension": ".py",
   "mimetype": "text/x-python",
   "name": "python",
   "nbconvert_exporter": "python",
   "pygments_lexer": "ipython3",
   "version": "3.9.10"
  }
 },
 "nbformat": 4,
 "nbformat_minor": 2
}
